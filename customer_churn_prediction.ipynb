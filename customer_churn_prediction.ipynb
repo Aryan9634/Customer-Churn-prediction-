{
 "cells": [
  {
   "cell_type": "markdown",
   "id": "f39e1737",
   "metadata": {},
   "source": [
    "## Customer Churn Prediction\n",
    "\n",
    "<u>Description</u>: Customer churn prediction refers to the process of using data analysis and machine learning techniques to forecast or predict when customers are likely to stop using a product or service and leave a company, often referred to as \"churn.\" Customer churn is a significant concern for businesses across various industries, as retaining existing customers is typically more cost-effective than acquiring new ones.\n",
    "\n",
    "<u>Objective</u>: Develop a machine learning model to predict customer churn based on historical customer data. You \n",
    "will follow a typical machine learning project pipeline, from data preprocessing to model deployment.\n",
    "------------------------------------------------------------------------------------------------------------------"
   ]
  },
  {
   "cell_type": "markdown",
   "id": "574507b0",
   "metadata": {},
   "source": [
    "Importing required modules"
   ]
  },
  {
   "cell_type": "code",
   "execution_count": 345,
   "id": "252e375f",
   "metadata": {},
   "outputs": [],
   "source": [
    "#Linear algebra and processing \n",
    "import numpy as np\n",
    "import pandas as pd\n",
    "\n",
    "import seaborn as sns\n",
    "import matplotlib.pyplot as plt\n",
    "\n",
    "from sklearn.preprocessing import LabelEncoder\n",
    "from sklearn.preprocessing import StandardScaler, RobustScaler, PowerTransformer, MinMaxScaler\n",
    "from sklearn.pipeline import Pipeline\n",
    "from sklearn.model_selection import train_test_split, StratifiedKFold\n",
    "from sklearn.model_selection import GridSearchCV, RandomizedSearchCV\n",
    "from sklearn.linear_model import LogisticRegression\n",
    "from sklearn.ensemble import GradientBoostingClassifier, RandomForestClassifier, VotingClassifier\n",
    "from sklearn.neighbors import KNeighborsClassifier\n",
    "from sklearn.tree import DecisionTreeClassifier\n",
    "from sklearn.metrics import accuracy_score, recall_score, precision_score, f1_score, confusion_matrix, classification_report, plot_roc_curve\n",
    "from sklearn.feature_selection import SelectKBest, mutual_info_classif\n",
    "\n",
    "import torch\n",
    "import torch.nn as nn\n",
    "import torch.nn.functional as F\n",
    "from torch.utils.data import DataLoader,TensorDataset\n",
    "from torch.utils.data import random_split\n",
    "\n",
    "import time\n",
    "import os\n",
    "import pickle\n",
    "import warnings"
   ]
  },
  {
   "cell_type": "markdown",
   "id": "8a0238fd",
   "metadata": {},
   "source": [
    "Setting enviornment "
   ]
  },
  {
   "cell_type": "code",
   "execution_count": 69,
   "id": "513e8316",
   "metadata": {},
   "outputs": [],
   "source": [
    "class Environment:\n",
    "    def __init__(self, random_seed):\n",
    "        self.random_seed = random_seed\n",
    "        self.random_state = None\n",
    "\n",
    "    def set_environment(self):\n",
    "        np.random.seed(self.random_seed)\n",
    "        torch.manual_seed(self.random_seed)\n",
    "        self.random_state = np.random.RandomState(self.random_seed)\n",
    "        warnings.filterwarnings(\"ignore\")\n",
    "\n",
    "env = Environment(42)\n",
    "env.set_environment()"
   ]
  },
  {
   "cell_type": "markdown",
   "id": "dc5210a2",
   "metadata": {},
   "source": [
    "General functions"
   ]
  },
  {
   "cell_type": "code",
   "execution_count": 70,
   "id": "88dd642c",
   "metadata": {},
   "outputs": [],
   "source": [
    "#saving data\n",
    "def save_object(obj, file_path, file_name):\n",
    "    \"\"\"\n",
    "    Save an object to a specified file using pickle.\n",
    "\n",
    "    Parameters:\n",
    "        obj: The object to be saved.\n",
    "        file_path (str): The directory where the file will be saved.\n",
    "        file_name (str): The name of the file to save.\n",
    "\n",
    "    Returns:\n",
    "        str: A message indicating if the object was saved successfully.\n",
    "    \"\"\"\n",
    "    # Ensure the directory exists\n",
    "    if not os.path.exists(file_path):\n",
    "        os.makedirs(file_path)\n",
    "\n",
    "    file_path = os.path.join(file_path, file_name)\n",
    "\n",
    "    try:\n",
    "        with open(file_path, \"wb\") as file:\n",
    "            pickle.dump(obj, file)\n",
    "        return f\"Object saved successfully at: {file_path}\"\n",
    "    except Exception as e:\n",
    "        return f\"Failed to save object: {str(e)}\"\n",
    "    \n",
    "#loading saved data\n",
    "def load_object(file_path, file_name):\n",
    "    \"\"\"\n",
    "    Load an object from a specified file using pickle.\n",
    "\n",
    "    Parameters:\n",
    "        file_path (str): The directory where the file is located.\n",
    "        file_name (str): The name of the file to load.\n",
    "\n",
    "    Returns:\n",
    "        obj: The loaded object.\n",
    "    \"\"\"\n",
    "    file_path = os.path.join(file_path, file_name)\n",
    "\n",
    "    try:\n",
    "        with open(file_path, \"rb\") as file:\n",
    "            obj = pickle.load(file)\n",
    "        return obj\n",
    "    except Exception as e:\n",
    "        raise ValueError(f\"Failed to load object: {str(e)}\")"
   ]
  },
  {
   "cell_type": "markdown",
   "id": "18b1a479",
   "metadata": {},
   "source": [
    "Directory variables"
   ]
  },
  {
   "cell_type": "code",
   "execution_count": 71,
   "id": "c2a94829",
   "metadata": {},
   "outputs": [],
   "source": [
    "#Directory paths\n",
    "data_dir = r\"C:\\Users\\91738\\OneDrive\\Desktop\\SunbaseData\\inputs\"\n",
    "output_data_dir = r\"C:\\Users\\91738\\OneDrive\\Desktop\\SunbaseData\\outputs\"\n",
    "models_dir = r\"C:\\Users\\91738\\OneDrive\\Desktop\\SunbaseData\\models\""
   ]
  },
  {
   "cell_type": "markdown",
   "id": "01493034",
   "metadata": {},
   "source": [
    "Loading data"
   ]
  },
  {
   "cell_type": "code",
   "execution_count": 72,
   "id": "7b469860",
   "metadata": {},
   "outputs": [],
   "source": [
    "def ensure_directory(directory_path):\n",
    "    \"\"\"\n",
    "    Ensure that a directory exists; if not, create it.\n",
    "\n",
    "    Parameters:\n",
    "        directory_path (str): The path of the directory to ensure.\n",
    "\n",
    "    Raises:\n",
    "        OSError: If the directory creation fails.\n",
    "    \"\"\"\n",
    "    try:\n",
    "        if not os.path.exists(directory_path):\n",
    "            os.makedirs(directory_path)\n",
    "    except OSError as e:\n",
    "        raise OSError(f\"Failed to create directory: {directory_path}\") from e"
   ]
  },
  {
   "cell_type": "code",
   "execution_count": 73,
   "id": "94f6b05e",
   "metadata": {},
   "outputs": [],
   "source": [
    "# Ensure output_data_dir and models_dir exist\n",
    "ensure_directory(output_data_dir)\n",
    "ensure_directory(models_dir)"
   ]
  },
  {
   "cell_type": "code",
   "execution_count": 74,
   "id": "839e5b50",
   "metadata": {},
   "outputs": [],
   "source": [
    "def load_data(data_dir: str, file_name: str) -> pd.DataFrame:\n",
    "    \"\"\"\n",
    "    Load data from a CSV file and parse date columns.\n",
    "\n",
    "    Parameters:\n",
    "        data_dir (str): The directory where the data file is located.\n",
    "        file_name (str): The name of the CSV file to load.\n",
    "\n",
    "    Returns:\n",
    "        pd.DataFrame: The loaded dataset.\n",
    "\n",
    "    Raises:\n",
    "        FileNotFoundError: If the file is not found.\n",
    "        pd.errors.ParserError: If there is an error in parsing the CSV file.\n",
    "    \"\"\"\n",
    "    file_path = os.path.join(data_dir, file_name)\n",
    "    try:\n",
    "        return pd.read_excel(file_path)\n",
    "    except FileNotFoundError as e:\n",
    "        raise FileNotFoundError(f\"File not found: {file_path}\") from e\n",
    "    except pd.errors.ParserError as e:\n",
    "        raise pd.errors.ParserError(f\"Error parsing CSV file: {file_path}\") from e"
   ]
  },
  {
   "cell_type": "code",
   "execution_count": 75,
   "id": "65a7896e",
   "metadata": {},
   "outputs": [],
   "source": [
    "# Load data from a CSV file\n",
    "data = load_data(data_dir,\"customer_churn_large_dataset.xlsx\")"
   ]
  },
  {
   "cell_type": "markdown",
   "id": "cf44323d",
   "metadata": {},
   "source": [
    "Data Inspection "
   ]
  },
  {
   "cell_type": "code",
   "execution_count": 76,
   "id": "365954a7",
   "metadata": {},
   "outputs": [
    {
     "data": {
      "text/html": [
       "<div>\n",
       "<style scoped>\n",
       "    .dataframe tbody tr th:only-of-type {\n",
       "        vertical-align: middle;\n",
       "    }\n",
       "\n",
       "    .dataframe tbody tr th {\n",
       "        vertical-align: top;\n",
       "    }\n",
       "\n",
       "    .dataframe thead th {\n",
       "        text-align: right;\n",
       "    }\n",
       "</style>\n",
       "<table border=\"1\" class=\"dataframe\">\n",
       "  <thead>\n",
       "    <tr style=\"text-align: right;\">\n",
       "      <th></th>\n",
       "      <th>CustomerID</th>\n",
       "      <th>Name</th>\n",
       "      <th>Age</th>\n",
       "      <th>Gender</th>\n",
       "      <th>Location</th>\n",
       "      <th>Subscription_Length_Months</th>\n",
       "      <th>Monthly_Bill</th>\n",
       "      <th>Total_Usage_GB</th>\n",
       "      <th>Churn</th>\n",
       "    </tr>\n",
       "  </thead>\n",
       "  <tbody>\n",
       "    <tr>\n",
       "      <th>0</th>\n",
       "      <td>1.0</td>\n",
       "      <td>Customer_1</td>\n",
       "      <td>63.0</td>\n",
       "      <td>Male</td>\n",
       "      <td>Los Angeles</td>\n",
       "      <td>17.0</td>\n",
       "      <td>73.36</td>\n",
       "      <td>236.0</td>\n",
       "      <td>0.0</td>\n",
       "    </tr>\n",
       "    <tr>\n",
       "      <th>1</th>\n",
       "      <td>2.0</td>\n",
       "      <td>Customer_2</td>\n",
       "      <td>62.0</td>\n",
       "      <td>Female</td>\n",
       "      <td>New York</td>\n",
       "      <td>1.0</td>\n",
       "      <td>48.76</td>\n",
       "      <td>172.0</td>\n",
       "      <td>0.0</td>\n",
       "    </tr>\n",
       "    <tr>\n",
       "      <th>2</th>\n",
       "      <td>3.0</td>\n",
       "      <td>Customer_3</td>\n",
       "      <td>24.0</td>\n",
       "      <td>Female</td>\n",
       "      <td>Los Angeles</td>\n",
       "      <td>5.0</td>\n",
       "      <td>85.47</td>\n",
       "      <td>460.0</td>\n",
       "      <td>0.0</td>\n",
       "    </tr>\n",
       "    <tr>\n",
       "      <th>3</th>\n",
       "      <td>4.0</td>\n",
       "      <td>Customer_4</td>\n",
       "      <td>36.0</td>\n",
       "      <td>Female</td>\n",
       "      <td>Miami</td>\n",
       "      <td>3.0</td>\n",
       "      <td>97.94</td>\n",
       "      <td>297.0</td>\n",
       "      <td>1.0</td>\n",
       "    </tr>\n",
       "    <tr>\n",
       "      <th>4</th>\n",
       "      <td>5.0</td>\n",
       "      <td>Customer_5</td>\n",
       "      <td>46.0</td>\n",
       "      <td>Female</td>\n",
       "      <td>Miami</td>\n",
       "      <td>19.0</td>\n",
       "      <td>58.14</td>\n",
       "      <td>266.0</td>\n",
       "      <td>0.0</td>\n",
       "    </tr>\n",
       "  </tbody>\n",
       "</table>\n",
       "</div>"
      ],
      "text/plain": [
       "   CustomerID        Name   Age  Gender     Location  \\\n",
       "0         1.0  Customer_1  63.0    Male  Los Angeles   \n",
       "1         2.0  Customer_2  62.0  Female     New York   \n",
       "2         3.0  Customer_3  24.0  Female  Los Angeles   \n",
       "3         4.0  Customer_4  36.0  Female        Miami   \n",
       "4         5.0  Customer_5  46.0  Female        Miami   \n",
       "\n",
       "   Subscription_Length_Months  Monthly_Bill  Total_Usage_GB  Churn  \n",
       "0                        17.0         73.36           236.0    0.0  \n",
       "1                         1.0         48.76           172.0    0.0  \n",
       "2                         5.0         85.47           460.0    0.0  \n",
       "3                         3.0         97.94           297.0    1.0  \n",
       "4                        19.0         58.14           266.0    0.0  "
      ]
     },
     "execution_count": 76,
     "metadata": {},
     "output_type": "execute_result"
    }
   ],
   "source": [
    "data.head()"
   ]
  },
  {
   "cell_type": "markdown",
   "id": "9248e9c0",
   "metadata": {},
   "source": [
    "Data summary statistics"
   ]
  },
  {
   "cell_type": "code",
   "execution_count": 77,
   "id": "b0f388f4",
   "metadata": {},
   "outputs": [
    {
     "name": "stdout",
     "output_type": "stream",
     "text": [
      "<class 'pandas.core.frame.DataFrame'>\n",
      "RangeIndex: 100000 entries, 0 to 99999\n",
      "Data columns (total 9 columns):\n",
      " #   Column                      Non-Null Count   Dtype  \n",
      "---  ------                      --------------   -----  \n",
      " 0   CustomerID                  100000 non-null  float64\n",
      " 1   Name                        100000 non-null  object \n",
      " 2   Age                         100000 non-null  float64\n",
      " 3   Gender                      100000 non-null  object \n",
      " 4   Location                    100000 non-null  object \n",
      " 5   Subscription_Length_Months  100000 non-null  float64\n",
      " 6   Monthly_Bill                100000 non-null  float64\n",
      " 7   Total_Usage_GB              100000 non-null  float64\n",
      " 8   Churn                       100000 non-null  float64\n",
      "dtypes: float64(6), object(3)\n",
      "memory usage: 6.9+ MB\n"
     ]
    }
   ],
   "source": [
    "data.info()"
   ]
  },
  {
   "cell_type": "code",
   "execution_count": 78,
   "id": "c1d5fdc5",
   "metadata": {},
   "outputs": [
    {
     "data": {
      "text/html": [
       "<div>\n",
       "<style scoped>\n",
       "    .dataframe tbody tr th:only-of-type {\n",
       "        vertical-align: middle;\n",
       "    }\n",
       "\n",
       "    .dataframe tbody tr th {\n",
       "        vertical-align: top;\n",
       "    }\n",
       "\n",
       "    .dataframe thead th {\n",
       "        text-align: right;\n",
       "    }\n",
       "</style>\n",
       "<table border=\"1\" class=\"dataframe\">\n",
       "  <thead>\n",
       "    <tr style=\"text-align: right;\">\n",
       "      <th></th>\n",
       "      <th>CustomerID</th>\n",
       "      <th>Age</th>\n",
       "      <th>Subscription_Length_Months</th>\n",
       "      <th>Monthly_Bill</th>\n",
       "      <th>Total_Usage_GB</th>\n",
       "      <th>Churn</th>\n",
       "    </tr>\n",
       "  </thead>\n",
       "  <tbody>\n",
       "    <tr>\n",
       "      <th>count</th>\n",
       "      <td>100000.000000</td>\n",
       "      <td>100000.000000</td>\n",
       "      <td>100000.000000</td>\n",
       "      <td>100000.000000</td>\n",
       "      <td>100000.000000</td>\n",
       "      <td>100000.000000</td>\n",
       "    </tr>\n",
       "    <tr>\n",
       "      <th>mean</th>\n",
       "      <td>50000.500000</td>\n",
       "      <td>44.027020</td>\n",
       "      <td>12.490100</td>\n",
       "      <td>65.053197</td>\n",
       "      <td>274.393650</td>\n",
       "      <td>0.497790</td>\n",
       "    </tr>\n",
       "    <tr>\n",
       "      <th>std</th>\n",
       "      <td>28867.657797</td>\n",
       "      <td>15.280283</td>\n",
       "      <td>6.926461</td>\n",
       "      <td>20.230696</td>\n",
       "      <td>130.463063</td>\n",
       "      <td>0.499998</td>\n",
       "    </tr>\n",
       "    <tr>\n",
       "      <th>min</th>\n",
       "      <td>1.000000</td>\n",
       "      <td>18.000000</td>\n",
       "      <td>1.000000</td>\n",
       "      <td>30.000000</td>\n",
       "      <td>50.000000</td>\n",
       "      <td>0.000000</td>\n",
       "    </tr>\n",
       "    <tr>\n",
       "      <th>25%</th>\n",
       "      <td>25000.750000</td>\n",
       "      <td>31.000000</td>\n",
       "      <td>6.000000</td>\n",
       "      <td>47.540000</td>\n",
       "      <td>161.000000</td>\n",
       "      <td>0.000000</td>\n",
       "    </tr>\n",
       "    <tr>\n",
       "      <th>50%</th>\n",
       "      <td>50000.500000</td>\n",
       "      <td>44.000000</td>\n",
       "      <td>12.000000</td>\n",
       "      <td>65.010000</td>\n",
       "      <td>274.000000</td>\n",
       "      <td>0.000000</td>\n",
       "    </tr>\n",
       "    <tr>\n",
       "      <th>75%</th>\n",
       "      <td>75000.250000</td>\n",
       "      <td>57.000000</td>\n",
       "      <td>19.000000</td>\n",
       "      <td>82.640000</td>\n",
       "      <td>387.000000</td>\n",
       "      <td>1.000000</td>\n",
       "    </tr>\n",
       "    <tr>\n",
       "      <th>max</th>\n",
       "      <td>100000.000000</td>\n",
       "      <td>70.000000</td>\n",
       "      <td>24.000000</td>\n",
       "      <td>100.000000</td>\n",
       "      <td>500.000000</td>\n",
       "      <td>1.000000</td>\n",
       "    </tr>\n",
       "  </tbody>\n",
       "</table>\n",
       "</div>"
      ],
      "text/plain": [
       "          CustomerID            Age  Subscription_Length_Months  \\\n",
       "count  100000.000000  100000.000000               100000.000000   \n",
       "mean    50000.500000      44.027020                   12.490100   \n",
       "std     28867.657797      15.280283                    6.926461   \n",
       "min         1.000000      18.000000                    1.000000   \n",
       "25%     25000.750000      31.000000                    6.000000   \n",
       "50%     50000.500000      44.000000                   12.000000   \n",
       "75%     75000.250000      57.000000                   19.000000   \n",
       "max    100000.000000      70.000000                   24.000000   \n",
       "\n",
       "        Monthly_Bill  Total_Usage_GB          Churn  \n",
       "count  100000.000000   100000.000000  100000.000000  \n",
       "mean       65.053197      274.393650       0.497790  \n",
       "std        20.230696      130.463063       0.499998  \n",
       "min        30.000000       50.000000       0.000000  \n",
       "25%        47.540000      161.000000       0.000000  \n",
       "50%        65.010000      274.000000       0.000000  \n",
       "75%        82.640000      387.000000       1.000000  \n",
       "max       100.000000      500.000000       1.000000  "
      ]
     },
     "execution_count": 78,
     "metadata": {},
     "output_type": "execute_result"
    }
   ],
   "source": [
    "data.describe()"
   ]
  },
  {
   "cell_type": "markdown",
   "id": "05fc99e0",
   "metadata": {},
   "source": [
    "**Data preprocessing**"
   ]
  },
  {
   "cell_type": "markdown",
   "id": "72a01acf",
   "metadata": {},
   "source": [
    "- Type Conversion "
   ]
  },
  {
   "cell_type": "code",
   "execution_count": 79,
   "id": "e038bfaf",
   "metadata": {},
   "outputs": [],
   "source": [
    "def change_data_type(dataset, column_name, target_data_type):\n",
    "    \"\"\"\n",
    "    Change the data type of a column in a Pandas DataFrame.\n",
    "\n",
    "    Parameters:\n",
    "        dataset (pd.DataFrame): The DataFrame in which to change the data type.\n",
    "        column_name (str): The name of the column for which to change the data type.\n",
    "        target_data_type (type): The target data type to which the column should be converted.\n",
    "\n",
    "    Returns:\n",
    "        None\n",
    "\n",
    "    Raises:\n",
    "        ValueError: If the specified column does not exist in the dataset.\n",
    "    \"\"\"\n",
    "    try:\n",
    "        dataset[column_name] = dataset[column_name].astype(target_data_type)\n",
    "        print(f\"Data type of column '{column_name}' changed to {target_data_type.__name__}.\")\n",
    "        return dataset\n",
    "    except KeyError as e:\n",
    "        raise ValueError(f\"Column not found: {column_name}\") from e"
   ]
  },
  {
   "cell_type": "code",
   "execution_count": 80,
   "id": "c1ec0935",
   "metadata": {
    "scrolled": true
   },
   "outputs": [
    {
     "name": "stdout",
     "output_type": "stream",
     "text": [
      "Data type of column 'CustomerID' changed to str.\n"
     ]
    }
   ],
   "source": [
    "#Customer ID columns should be categorical not float\n",
    "data = change_data_type(data,\"CustomerID\",str)"
   ]
  },
  {
   "cell_type": "code",
   "execution_count": 81,
   "id": "e8a5dcf8",
   "metadata": {},
   "outputs": [
    {
     "name": "stdout",
     "output_type": "stream",
     "text": [
      "Data type of column 'Churn' changed to int.\n"
     ]
    }
   ],
   "source": [
    "#Churn columns should be categorical not float\n",
    "data = change_data_type(data,\"Churn\",int)"
   ]
  },
  {
   "cell_type": "code",
   "execution_count": 82,
   "id": "6af18800",
   "metadata": {},
   "outputs": [
    {
     "name": "stdout",
     "output_type": "stream",
     "text": [
      "Data type of column 'Age' changed to int.\n"
     ]
    }
   ],
   "source": [
    "#Churn columns should be categorical not float\n",
    "data = change_data_type(data,\"Age\",int)"
   ]
  },
  {
   "cell_type": "markdown",
   "id": "6e721225",
   "metadata": {},
   "source": [
    "- Duplicate records"
   ]
  },
  {
   "cell_type": "code",
   "execution_count": 83,
   "id": "1b28441f",
   "metadata": {},
   "outputs": [],
   "source": [
    "def remove_duplicates(dataset):\n",
    "    \"\"\"\n",
    "    Remove duplicates from a Pandas DataFrame.\n",
    "\n",
    "    Parameters:\n",
    "        dataset (pd.DataFrame): The DataFrame from which duplicates will be removed.\n",
    "\n",
    "    Returns:\n",
    "        pd.DataFrame or str: The modified DataFrame with duplicates removed, or a message\n",
    "                            indicating no duplicates were found.\n",
    "\n",
    "    Raises:\n",
    "        ValueError: If the dataset is not a Pandas DataFrame.\n",
    "    \"\"\"\n",
    "    if not isinstance(dataset, pd.DataFrame):\n",
    "        raise ValueError(\"Input dataset is not a Pandas DataFrame.\")\n",
    "\n",
    "    dup_count = dataset.duplicated().sum()\n",
    "    if dup_count == 0:\n",
    "        return \"No duplicate records\"\n",
    "    else:\n",
    "        dataset.drop_duplicates(inplace=True)\n",
    "        return \"Duplicate records dropped\""
   ]
  },
  {
   "cell_type": "code",
   "execution_count": 84,
   "id": "134e6fde",
   "metadata": {},
   "outputs": [
    {
     "data": {
      "text/plain": [
       "'No duplicate records'"
      ]
     },
     "execution_count": 84,
     "metadata": {},
     "output_type": "execute_result"
    }
   ],
   "source": [
    "remove_duplicates(data)"
   ]
  },
  {
   "cell_type": "markdown",
   "id": "5538e4c0",
   "metadata": {},
   "source": [
    "- Null values processing "
   ]
  },
  {
   "cell_type": "code",
   "execution_count": 85,
   "id": "b33255cb",
   "metadata": {},
   "outputs": [],
   "source": [
    "def null_assessment(dataset):\n",
    "    \"\"\"\n",
    "    Perform a null value assessment on a Pandas DataFrame.\n",
    "\n",
    "    Parameters:\n",
    "        dataset (pd.DataFrame): The DataFrame to assess for null values.\n",
    "\n",
    "    Returns:\n",
    "        str: A message indicating if null values are present or if processing is required.\n",
    "    \"\"\"\n",
    "    null_count = dataset.isnull().sum().sum()\n",
    "    if null_count == 0:\n",
    "        return \"No null values\"\n",
    "    else:\n",
    "        return \"Processing required\""
   ]
  },
  {
   "cell_type": "code",
   "execution_count": 86,
   "id": "1ea55e02",
   "metadata": {},
   "outputs": [
    {
     "data": {
      "text/plain": [
       "'No null values'"
      ]
     },
     "execution_count": 86,
     "metadata": {},
     "output_type": "execute_result"
    }
   ],
   "source": [
    "null_assessment(data)"
   ]
  },
  {
   "cell_type": "markdown",
   "id": "c36b09d8",
   "metadata": {},
   "source": [
    "- Dropping redundant columns"
   ]
  },
  {
   "cell_type": "code",
   "execution_count": 87,
   "id": "6d77fea2",
   "metadata": {},
   "outputs": [],
   "source": [
    "def calculate_uniqueness_ratio(dataset):\n",
    "    \"\"\"\n",
    "    Calculate the uniqueness ratio for each column in the dataset.\n",
    "\n",
    "    Parameters:\n",
    "    dataset (pd.DataFrame): The dataset to calculate uniqueness ratios for.\n",
    "\n",
    "    Returns:\n",
    "    dict: A dictionary where keys are column names and values are uniqueness ratios.\n",
    "    \"\"\"\n",
    "    # Select object-type columns\n",
    "    object_columns = dataset.select_dtypes(include='object').columns\n",
    "\n",
    "    # Calculate uniqueness ratios\n",
    "    uniqueness_ratios = {column: len(dataset[column].unique()) / len(dataset)\n",
    "                         for column in object_columns}\n",
    "\n",
    "    return uniqueness_ratios\n",
    "\n",
    "def display_uniqueness_ratios(uniqueness_ratios):\n",
    "    \"\"\"\n",
    "    Display the uniqueness ratios.\n",
    "\n",
    "    Parameters:\n",
    "    uniqueness_ratios (dict): A dictionary containing column names and uniqueness ratios.\n",
    "    \"\"\"\n",
    "    print(\"Uniqueness ratios:\\n\")\n",
    "    for column_name, ratio in uniqueness_ratios.items():\n",
    "        print(f\"{column_name}: {ratio}\")"
   ]
  },
  {
   "cell_type": "code",
   "execution_count": 88,
   "id": "3a970d6a",
   "metadata": {},
   "outputs": [
    {
     "name": "stdout",
     "output_type": "stream",
     "text": [
      "Uniqueness ratios:\n",
      "\n",
      "CustomerID: 1.0\n",
      "Name: 1.0\n",
      "Gender: 2e-05\n",
      "Location: 5e-05\n"
     ]
    }
   ],
   "source": [
    "uniqueness_ratios = calculate_uniqueness_ratio(data)\n",
    "display_uniqueness_ratios(uniqueness_ratios)"
   ]
  },
  {
   "cell_type": "code",
   "execution_count": 89,
   "id": "72882f80",
   "metadata": {},
   "outputs": [],
   "source": [
    "\"\"\"\n",
    "As observed, the 'Name' column exhibits a high uniqueness ratio, \n",
    "indicating no variation and no correlation. Therefore, it is appropriate to drop these columns.\n",
    "\"\"\"\n",
    "def drop_columns(dataset, columns=None):\n",
    "    \"\"\"\n",
    "    Drop specified column(s) from a Pandas DataFrame.\n",
    "\n",
    "    Parameters:\n",
    "        dataset (pd.DataFrame): The DataFrame from which to drop the column(s).\n",
    "        columns (str or list of str, optional): The column(s) to drop.\n",
    "\n",
    "    Returns:\n",
    "        str: A message indicating if the column(s) were dropped successfully.\n",
    "\n",
    "    Raises:\n",
    "        ValueError: If the specified column(s) do not exist in the dataset.\n",
    "    \"\"\"\n",
    "    if columns is None:\n",
    "        return \"No columns specified to drop\"\n",
    "\n",
    "    if isinstance(columns, str):\n",
    "        columns = [columns]\n",
    "\n",
    "    try:\n",
    "        dataset.drop(columns=columns, inplace=True)\n",
    "        return f\"Column(s) '{', '.join(columns)}' dropped successfully\"\n",
    "    except KeyError as e:\n",
    "        raise ValueError(f\"Column(s) not found: {', '.join(columns)}\") from e"
   ]
  },
  {
   "cell_type": "code",
   "execution_count": 90,
   "id": "7003674d",
   "metadata": {},
   "outputs": [
    {
     "data": {
      "text/plain": [
       "\"Column(s) 'Name, CustomerID' dropped successfully\""
      ]
     },
     "execution_count": 90,
     "metadata": {},
     "output_type": "execute_result"
    }
   ],
   "source": [
    "drop_columns(data,[\"Name\",\"CustomerID\"])"
   ]
  },
  {
   "cell_type": "markdown",
   "id": "07357d89",
   "metadata": {},
   "source": [
    "- Outlier analysis and removal"
   ]
  },
  {
   "cell_type": "code",
   "execution_count": 91,
   "id": "ad490996",
   "metadata": {},
   "outputs": [],
   "source": [
    "def plot_box_for_numeric_columns(data, target_column=\"Churn\"):\n",
    "    \"\"\"\n",
    "    Plot boxplots for numeric columns (excluding the target column) in a DataFrame.\n",
    "\n",
    "    Parameters:\n",
    "        data (pd.DataFrame): The DataFrame for which to plot boxplots.\n",
    "        target_column (str): The target column to exclude from plotting (default: \"Churn\").\n",
    "\n",
    "    Returns:\n",
    "        None\n",
    "    \"\"\"\n",
    "    # Select numeric columns excluding the target column\n",
    "    numeric_columns = data.select_dtypes(include=[float, int]).drop(columns=[target_column]).columns\n",
    "\n",
    "    # Determine the number of plots needed\n",
    "    num_plots = len(numeric_columns)\n",
    "\n",
    "    # Set up subplots\n",
    "    fig, axes = plt.subplots(1, num_plots, figsize=(13, 4))\n",
    "\n",
    "    # Plot boxplots for each numeric column\n",
    "    for i, col in enumerate(numeric_columns):\n",
    "        axes[i].boxplot(data[col])\n",
    "        axes[i].set_title(col)\n",
    "        axes[i].set_ylabel('Value')\n",
    "\n",
    "    plt.tight_layout()\n",
    "    plt.show()"
   ]
  },
  {
   "cell_type": "code",
   "execution_count": 92,
   "id": "b0289876",
   "metadata": {},
   "outputs": [
    {
     "data": {
      "image/png": "[encoded data removed]",
      "text/plain": [
       "<Figure size 936x288 with 4 Axes>"
      ]
     },
     "metadata": {
      "needs_background": "light"
     },
     "output_type": "display_data"
    }
   ],
   "source": [
    "plot_box_for_numeric_columns(data)"
   ]
  },
  {
   "cell_type": "code",
   "execution_count": 93,
   "id": "42c33bee",
   "metadata": {},
   "outputs": [],
   "source": [
    "def detect_outliers(column):\n",
    "    \"\"\"\n",
    "    Detect outliers in a numerical column using the IQR method.\n",
    "\n",
    "    Parameters:\n",
    "    column (pd.Series): A numerical column.\n",
    "\n",
    "    Returns:\n",
    "    pd.Series: A boolean series indicating outliers.\n",
    "    \"\"\"\n",
    "    Q1 = column.quantile(0.25)\n",
    "    Q3 = column.quantile(0.75)\n",
    "    IQR = Q3 - Q1\n",
    "    lower_bound = Q1 - 1.5 * IQR\n",
    "    upper_bound = Q3 + 1.5 * IQR\n",
    "    return ((column < lower_bound) | (column > upper_bound)).sum()\n",
    "\n",
    "def calculate_outlier_ratio(dataset):\n",
    "    \"\"\"\n",
    "    Calculate the outlier ratio for each numerical column in the dataset using the IQR method.\n",
    "\n",
    "    Parameters:\n",
    "    dataset (pd.DataFrame): The dataset.\n",
    "\n",
    "    Returns:\n",
    "    dict: A dictionary where keys are column names and values are outlier ratios.\n",
    "    \"\"\"\n",
    "    numerical_columns = dataset.select_dtypes(include='float').columns\n",
    "    outlier_ratios = {}\n",
    "\n",
    "    for column in numerical_columns:\n",
    "        outliers = detect_outliers(dataset[column])\n",
    "        outlier_ratio = outliers/len(dataset)\n",
    "        outlier_ratios[column] = outlier_ratio\n",
    "\n",
    "    return outlier_ratios\n",
    "\n",
    "def display_outlier_ratios(outlier_ratios):\n",
    "    \"\"\"\n",
    "    Display the outlier ratios.\n",
    "\n",
    "    Parameters:\n",
    "    outlier_ratios (dict): A dictionary containing column names and outlier ratios.\n",
    "    \"\"\"\n",
    "    print(\"Outlier ratios:\\n\")\n",
    "    for column_name, ratio in outlier_ratios.items():\n",
    "        ratio = ratio\n",
    "        print(f\"{column_name}: {ratio}\")"
   ]
  },
  {
   "cell_type": "code",
   "execution_count": 94,
   "id": "3c6b2942",
   "metadata": {},
   "outputs": [
    {
     "name": "stdout",
     "output_type": "stream",
     "text": [
      "Outlier ratios:\n",
      "\n",
      "Subscription_Length_Months: 0.0\n",
      "Monthly_Bill: 0.0\n",
      "Total_Usage_GB: 0.0\n"
     ]
    }
   ],
   "source": [
    "outlier_ratios = calculate_outlier_ratio(data) \n",
    "display_outlier_ratios(outlier_ratios)"
   ]
  },
  {
   "cell_type": "code",
   "execution_count": 95,
   "id": "395585ec",
   "metadata": {},
   "outputs": [],
   "source": [
    "#No need to process outliers"
   ]
  },
  {
   "cell_type": "markdown",
   "id": "9dc942e2",
   "metadata": {},
   "source": [
    "**Feature Engineering**"
   ]
  },
  {
   "cell_type": "markdown",
   "id": "46c8b055",
   "metadata": {},
   "source": [
    "- Scaling data"
   ]
  },
  {
   "cell_type": "code",
   "execution_count": 96,
   "id": "d245abe4",
   "metadata": {},
   "outputs": [],
   "source": [
    "def kde_plots_for_numeric_columns(data,super_title):\n",
    "    \"\"\"\n",
    "    Plot KDE plots for numeric columns in a DataFrame.\n",
    "\n",
    "    Parameters:\n",
    "        data (pd.DataFrame): The DataFrame for which to plot KDE plots.\n",
    "\n",
    "    Returns:\n",
    "        None\n",
    "    \"\"\"\n",
    "    # Select numeric columns\n",
    "    numeric_columns = data.select_dtypes(include=[float]).columns\n",
    "\n",
    "    # Determine the number of plots needed\n",
    "    num_plots = len(numeric_columns)\n",
    "\n",
    "    # Set up subplots\n",
    "    fig, axes = plt.subplots(1, num_plots, figsize=(13, 4))\n",
    "\n",
    "    # Plot KDE plots for each numeric column\n",
    "    for i, col in enumerate(numeric_columns):\n",
    "        sns.kdeplot(data[col], ax=axes[i], shade=True, color='blue')\n",
    "        axes[i].set_title(f'KDE Plot for {col}')\n",
    "        axes[i].set_xlabel(col)\n",
    "        axes[i].set_ylabel('Density')\n",
    "\n",
    "    plt.suptitle(super_title, fontsize=20)\n",
    "    plt.tight_layout()\n",
    "    plt.show()"
   ]
  },
  {
   "cell_type": "code",
   "execution_count": 97,
   "id": "afa75930",
   "metadata": {},
   "outputs": [
    {
     "data": {
      "image/png": "[encoded data removed]",
      "text/plain": [
       "<Figure size 936x288 with 3 Axes>"
      ]
     },
     "metadata": {
      "needs_background": "light"
     },
     "output_type": "display_data"
    }
   ],
   "source": [
    "kde_plots_for_numeric_columns(data,\"Before scaling\")"
   ]
  },
  {
   "cell_type": "code",
   "execution_count": 98,
   "id": "1e47baaf",
   "metadata": {},
   "outputs": [],
   "source": [
    "def scale_data(data):\n",
    "    \"\"\"\n",
    "\n",
    "    Parameters:\n",
    "    data (pd.DataFrame): The dataset to be scaled.\n",
    "\n",
    "    Returns:\n",
    "    pd.DataFrame: The scaled dataset.\n",
    "    \"\"\"\n",
    "    columns = data.select_dtypes(include='float').columns\n",
    "    \n",
    "    scalers = [('StandardScaler', StandardScaler()),\n",
    "               ('MinMaxScaler', MinMaxScaler()),\n",
    "               ('RobustScaler', RobustScaler()),\n",
    "               ('PowerTransformer', PowerTransformer(method='yeo-johnson'))\n",
    "              ]\n",
    "    \n",
    "    scaler_pipeline = Pipeline(scalers)\n",
    "    data[columns] = scaler_pipeline.fit_transform(data[columns])\n",
    "    return data"
   ]
  },
  {
   "cell_type": "code",
   "execution_count": 99,
   "id": "c10c94c0",
   "metadata": {},
   "outputs": [],
   "source": [
    "scaled_data = scale_data(data)"
   ]
  },
  {
   "cell_type": "code",
   "execution_count": 100,
   "id": "8a681037",
   "metadata": {},
   "outputs": [
    {
     "data": {
      "image/png": "[encoded data removed]",
      "text/plain": [
       "<Figure size 936x288 with 3 Axes>"
      ]
     },
     "metadata": {
      "needs_background": "light"
     },
     "output_type": "display_data"
    }
   ],
   "source": [
    "kde_plots_for_numeric_columns(scaled_data,\"After scaling\")"
   ]
  },
  {
   "cell_type": "markdown",
   "id": "6ff3e8d3",
   "metadata": {},
   "source": [
    "- Encoding data"
   ]
  },
  {
   "cell_type": "code",
   "execution_count": 101,
   "id": "a006b180",
   "metadata": {},
   "outputs": [],
   "source": [
    "def label_encode_categorical(dataset):\n",
    "    \"\"\"\n",
    "    Label encode object-type columns in a Pandas DataFrame.\n",
    "\n",
    "    Parameters:\n",
    "        dataset (pd.DataFrame): The DataFrame to label encode.\n",
    "\n",
    "    Returns:\n",
    "        pd.DataFrame: A new DataFrame with object columns label encoded.\n",
    "\n",
    "    Raises:\n",
    "        TypeError: If the input is not a Pandas DataFrame.\n",
    "    \"\"\"\n",
    "    if not isinstance(dataset, pd.DataFrame):\n",
    "        raise TypeError(\"Input is not a Pandas DataFrame.\")\n",
    "\n",
    "    # Select columns with object data type\n",
    "    object_columns = dataset.select_dtypes(include=['object']).columns\n",
    "\n",
    "    if len(object_columns) == 0:\n",
    "        print(\"No object columns found to label encode.\")\n",
    "        return dataset.copy()\n",
    "\n",
    "    # Copy the DataFrame to avoid modifying the original\n",
    "    encoded_dataset = dataset.copy()\n",
    "\n",
    "    # Apply label encoding to object columns\n",
    "    label_encoder = LabelEncoder()\n",
    "    for column in object_columns:\n",
    "        encoded_dataset[column] = label_encoder.fit_transform(encoded_dataset[column])\n",
    "\n",
    "    print(\"Object columns label encoded.\")\n",
    "    return encoded_dataset"
   ]
  },
  {
   "cell_type": "code",
   "execution_count": 102,
   "id": "ad74b2c4",
   "metadata": {},
   "outputs": [
    {
     "name": "stdout",
     "output_type": "stream",
     "text": [
      "Object columns label encoded.\n"
     ]
    }
   ],
   "source": [
    "data = label_encode_categorical(scaled_data)"
   ]
  },
  {
   "cell_type": "code",
   "execution_count": 103,
   "id": "b7bb0ee2",
   "metadata": {},
   "outputs": [
    {
     "data": {
      "text/html": [
       "<div>\n",
       "<style scoped>\n",
       "    .dataframe tbody tr th:only-of-type {\n",
       "        vertical-align: middle;\n",
       "    }\n",
       "\n",
       "    .dataframe tbody tr th {\n",
       "        vertical-align: top;\n",
       "    }\n",
       "\n",
       "    .dataframe thead th {\n",
       "        text-align: right;\n",
       "    }\n",
       "</style>\n",
       "<table border=\"1\" class=\"dataframe\">\n",
       "  <thead>\n",
       "    <tr style=\"text-align: right;\">\n",
       "      <th></th>\n",
       "      <th>Age</th>\n",
       "      <th>Gender</th>\n",
       "      <th>Location</th>\n",
       "      <th>Subscription_Length_Months</th>\n",
       "      <th>Monthly_Bill</th>\n",
       "      <th>Total_Usage_GB</th>\n",
       "      <th>Churn</th>\n",
       "    </tr>\n",
       "  </thead>\n",
       "  <tbody>\n",
       "    <tr>\n",
       "      <th>0</th>\n",
       "      <td>63</td>\n",
       "      <td>1</td>\n",
       "      <td>2</td>\n",
       "      <td>0.652504</td>\n",
       "      <td>0.410694</td>\n",
       "      <td>-0.291984</td>\n",
       "      <td>0</td>\n",
       "    </tr>\n",
       "    <tr>\n",
       "      <th>1</th>\n",
       "      <td>62</td>\n",
       "      <td>0</td>\n",
       "      <td>4</td>\n",
       "      <td>-1.663214</td>\n",
       "      <td>-0.805341</td>\n",
       "      <td>-0.783986</td>\n",
       "      <td>0</td>\n",
       "    </tr>\n",
       "    <tr>\n",
       "      <th>2</th>\n",
       "      <td>24</td>\n",
       "      <td>0</td>\n",
       "      <td>2</td>\n",
       "      <td>-1.081882</td>\n",
       "      <td>1.009198</td>\n",
       "      <td>1.420174</td>\n",
       "      <td>0</td>\n",
       "    </tr>\n",
       "    <tr>\n",
       "      <th>3</th>\n",
       "      <td>36</td>\n",
       "      <td>0</td>\n",
       "      <td>3</td>\n",
       "      <td>-1.372390</td>\n",
       "      <td>1.625432</td>\n",
       "      <td>0.175752</td>\n",
       "      <td>1</td>\n",
       "    </tr>\n",
       "    <tr>\n",
       "      <th>4</th>\n",
       "      <td>46</td>\n",
       "      <td>0</td>\n",
       "      <td>3</td>\n",
       "      <td>0.940040</td>\n",
       "      <td>-0.341626</td>\n",
       "      <td>-0.061787</td>\n",
       "      <td>0</td>\n",
       "    </tr>\n",
       "  </tbody>\n",
       "</table>\n",
       "</div>"
      ],
      "text/plain": [
       "   Age  Gender  Location  Subscription_Length_Months  Monthly_Bill  \\\n",
       "0   63       1         2                    0.652504      0.410694   \n",
       "1   62       0         4                   -1.663214     -0.805341   \n",
       "2   24       0         2                   -1.081882      1.009198   \n",
       "3   36       0         3                   -1.372390      1.625432   \n",
       "4   46       0         3                    0.940040     -0.341626   \n",
       "\n",
       "   Total_Usage_GB  Churn  \n",
       "0       -0.291984      0  \n",
       "1       -0.783986      0  \n",
       "2        1.420174      0  \n",
       "3        0.175752      1  \n",
       "4       -0.061787      0  "
      ]
     },
     "execution_count": 103,
     "metadata": {},
     "output_type": "execute_result"
    }
   ],
   "source": [
    "#processed data view\n",
    "data.head()"
   ]
  },
  {
   "cell_type": "markdown",
   "id": "6a5aa1de",
   "metadata": {},
   "source": [
    "- Saving processed data"
   ]
  },
  {
   "cell_type": "code",
   "execution_count": 104,
   "id": "7ef7dcf1",
   "metadata": {},
   "outputs": [
    {
     "data": {
      "text/plain": [
       "'Object saved successfully at: C:\\\\Users\\\\91738\\\\OneDrive\\\\Desktop\\\\SunbaseData\\\\outputs\\\\processed_data.pkl'"
      ]
     },
     "execution_count": 104,
     "metadata": {},
     "output_type": "execute_result"
    }
   ],
   "source": [
    "save_object(data,output_data_dir,\"processed_data.pkl\")        "
   ]
  },
  {
   "cell_type": "code",
   "execution_count": 105,
   "id": "4bb6d4b1",
   "metadata": {},
   "outputs": [
    {
     "data": {
      "text/html": [
       "<div>\n",
       "<style scoped>\n",
       "    .dataframe tbody tr th:only-of-type {\n",
       "        vertical-align: middle;\n",
       "    }\n",
       "\n",
       "    .dataframe tbody tr th {\n",
       "        vertical-align: top;\n",
       "    }\n",
       "\n",
       "    .dataframe thead th {\n",
       "        text-align: right;\n",
       "    }\n",
       "</style>\n",
       "<table border=\"1\" class=\"dataframe\">\n",
       "  <thead>\n",
       "    <tr style=\"text-align: right;\">\n",
       "      <th></th>\n",
       "      <th>Age</th>\n",
       "      <th>Gender</th>\n",
       "      <th>Location</th>\n",
       "      <th>Subscription_Length_Months</th>\n",
       "      <th>Monthly_Bill</th>\n",
       "      <th>Total_Usage_GB</th>\n",
       "      <th>Churn</th>\n",
       "    </tr>\n",
       "  </thead>\n",
       "  <tbody>\n",
       "    <tr>\n",
       "      <th>0</th>\n",
       "      <td>63</td>\n",
       "      <td>1</td>\n",
       "      <td>2</td>\n",
       "      <td>0.652504</td>\n",
       "      <td>0.410694</td>\n",
       "      <td>-0.291984</td>\n",
       "      <td>0</td>\n",
       "    </tr>\n",
       "    <tr>\n",
       "      <th>1</th>\n",
       "      <td>62</td>\n",
       "      <td>0</td>\n",
       "      <td>4</td>\n",
       "      <td>-1.663214</td>\n",
       "      <td>-0.805341</td>\n",
       "      <td>-0.783986</td>\n",
       "      <td>0</td>\n",
       "    </tr>\n",
       "    <tr>\n",
       "      <th>2</th>\n",
       "      <td>24</td>\n",
       "      <td>0</td>\n",
       "      <td>2</td>\n",
       "      <td>-1.081882</td>\n",
       "      <td>1.009198</td>\n",
       "      <td>1.420174</td>\n",
       "      <td>0</td>\n",
       "    </tr>\n",
       "    <tr>\n",
       "      <th>3</th>\n",
       "      <td>36</td>\n",
       "      <td>0</td>\n",
       "      <td>3</td>\n",
       "      <td>-1.372390</td>\n",
       "      <td>1.625432</td>\n",
       "      <td>0.175752</td>\n",
       "      <td>1</td>\n",
       "    </tr>\n",
       "    <tr>\n",
       "      <th>4</th>\n",
       "      <td>46</td>\n",
       "      <td>0</td>\n",
       "      <td>3</td>\n",
       "      <td>0.940040</td>\n",
       "      <td>-0.341626</td>\n",
       "      <td>-0.061787</td>\n",
       "      <td>0</td>\n",
       "    </tr>\n",
       "  </tbody>\n",
       "</table>\n",
       "</div>"
      ],
      "text/plain": [
       "   Age  Gender  Location  Subscription_Length_Months  Monthly_Bill  \\\n",
       "0   63       1         2                    0.652504      0.410694   \n",
       "1   62       0         4                   -1.663214     -0.805341   \n",
       "2   24       0         2                   -1.081882      1.009198   \n",
       "3   36       0         3                   -1.372390      1.625432   \n",
       "4   46       0         3                    0.940040     -0.341626   \n",
       "\n",
       "   Total_Usage_GB  Churn  \n",
       "0       -0.291984      0  \n",
       "1       -0.783986      0  \n",
       "2        1.420174      0  \n",
       "3        0.175752      1  \n",
       "4       -0.061787      0  "
      ]
     },
     "execution_count": 105,
     "metadata": {},
     "output_type": "execute_result"
    }
   ],
   "source": [
    "data = load_object(output_data_dir,\"processed_data.pkl\")\n",
    "data.head()"
   ]
  },
  {
   "cell_type": "markdown",
   "id": "7abe85a8",
   "metadata": {},
   "source": [
    "**Model Building**"
   ]
  },
  {
   "cell_type": "markdown",
   "id": "5720f009",
   "metadata": {},
   "source": [
    "- Features and labels"
   ]
  },
  {
   "cell_type": "code",
   "execution_count": 106,
   "id": "4b0aa884",
   "metadata": {},
   "outputs": [
    {
     "name": "stdout",
     "output_type": "stream",
     "text": [
      "Features:(100000, 6)\n",
      "Labels:(100000,)\n"
     ]
    }
   ],
   "source": [
    "#features and labels\n",
    "X, y = data.drop(columns=[\"Churn\"]), data[\"Churn\"]\n",
    "print(f\"Features:{X.shape}\\nLabels:{y.shape}\")"
   ]
  },
  {
   "cell_type": "markdown",
   "id": "43d9ecca",
   "metadata": {},
   "source": [
    "- Splitting data"
   ]
  },
  {
   "cell_type": "code",
   "execution_count": 107,
   "id": "6e02f0be",
   "metadata": {},
   "outputs": [],
   "source": [
    "def split_data(features,labels,random_state=env.random_state):\n",
    "    \"\"\"\n",
    "    Split features and labels into training and testing sets.\n",
    "\n",
    "    Parameters:\n",
    "        features (array-like): The features to be split.\n",
    "        labels (array-like): The labels to be split.\n",
    "        random_state (int, RandomState instance, or None, optional): \n",
    "            Random state to use for random sampling (default: None).\n",
    "\n",
    "    Returns:\n",
    "        tuple: A tuple containing (X_train, X_test, y_train, y_test).\n",
    "    \"\"\"\n",
    "    X,x,Y,y = train_test_split(features, labels, test_size=0.3, random_state=random_state, stratify=labels)\n",
    "    print(f\"X_train shape:{X.shape} | y_train shape:{Y.shape}\\nX_test shape:{x.shape} | y_test shape:{y.shape}\")\n",
    "    return X,x,Y,y"
   ]
  },
  {
   "cell_type": "code",
   "execution_count": 108,
   "id": "6c4ad08b",
   "metadata": {},
   "outputs": [
    {
     "name": "stdout",
     "output_type": "stream",
     "text": [
      "X_train shape:(70000, 6) | y_train shape:(70000,)\n",
      "X_test shape:(30000, 6) | y_test shape:(30000,)\n"
     ]
    }
   ],
   "source": [
    "X_train, X_test, y_train, y_test = split_data(X,y)"
   ]
  },
  {
   "cell_type": "markdown",
   "id": "41adb165",
   "metadata": {},
   "source": [
    "- Model selection "
   ]
  },
  {
   "cell_type": "markdown",
   "id": "6c8472f4",
   "metadata": {},
   "source": [
    "ML algorithms"
   ]
  },
  {
   "cell_type": "code",
   "execution_count": 109,
   "id": "a5106f13",
   "metadata": {},
   "outputs": [],
   "source": [
    "models = [\n",
    "    (\"KNeighborsClassifier\", KNeighborsClassifier()),  # K-Nearest Neighbors\n",
    "    (\"DecisionTreeClassifier\", DecisionTreeClassifier()),  # Decision Tree\n",
    "    (\"LogisticRegression\", LogisticRegression()),  # Logistic Regression\n",
    "    (\"RandomForestClassifier\", RandomForestClassifier()),  # Random Forest\n",
    "    (\"GradientBoostingClassifier\", GradientBoostingClassifier()),  # Gradient Boosting\n",
    "    (\"VotingClassifier\", VotingClassifier(estimators=[\n",
    "        (\"knn\", KNeighborsClassifier()),\n",
    "        (\"dt\", DecisionTreeClassifier()),\n",
    "        (\"lr\", LogisticRegression()),\n",
    "        (\"rf\", RandomForestClassifier()),\n",
    "        (\"gr\", GradientBoostingClassifier())\n",
    "    ], voting='soft'))  # Soft voting ensemble\n",
    "]"
   ]
  },
  {
   "cell_type": "code",
   "execution_count": 110,
   "id": "0ecc45f3",
   "metadata": {},
   "outputs": [],
   "source": [
    "def calculate_classification_metrics(model, X_test, y_test):\n",
    "    \"\"\"\n",
    "    Calculate classification metrics for a given model.\n",
    "\n",
    "    Parameters:\n",
    "    model: A trained classification model.\n",
    "    X_test (array-like): Feature matrix of the test set.\n",
    "    y_test (array-like): True labels of the test set.\n",
    "\n",
    "    Returns:\n",
    "    dict: A dictionary containing the classification metrics.\n",
    "    \"\"\"\n",
    "    y_preds = model.predict(X_test)\n",
    "    \n",
    "    accuracy = accuracy_score(y_test, y_preds)\n",
    "    precision = precision_score(y_test, y_preds)\n",
    "    recall = recall_score(y_test, y_preds)\n",
    "    f1 = f1_score(y_test, y_preds)\n",
    "    \n",
    "    metrics = {\n",
    "        \"Accuracy\": accuracy,\n",
    "        \"Precision\": precision,\n",
    "        \"Recall\": recall,\n",
    "        \"F1 Score\": f1,\n",
    "    }\n",
    "    \n",
    "    return metrics\n",
    "\n",
    "def calculate_metrics_for_models(models, X_train, y_train, X_test, y_test):\n",
    "    \"\"\"\n",
    "    Calculate classification metrics for a list of models.\n",
    "\n",
    "    Parameters:\n",
    "    models (list): A list of tuples containing model names and instances.\n",
    "    X_test (array-like): Feature matrix of the test set.\n",
    "    y_test (array-like): True labels of the test set.\n",
    "\n",
    "    Returns:\n",
    "    list: A list of dictionaries containing the classification metrics for each model.\n",
    "    \"\"\"\n",
    "    model_metrics = []\n",
    "\n",
    "    for model_name, model in models:\n",
    "        if isinstance(model, str):\n",
    "            continue \n",
    "            \n",
    "        # Measure the time taken to fit the model\n",
    "        start_time = time.time()\n",
    "        model.fit(X_train, y_train)\n",
    "        end_time = time.time()\n",
    "        fit_time = end_time - start_time\n",
    "        \n",
    "        metrics = calculate_classification_metrics(model, X_test, y_test)\n",
    "        print(f\"--{model_name}--\")\n",
    "        print(f\"Fit time: {fit_time:.4f} seconds\\n\")\n",
    "        \n",
    "        model_metrics.append({\n",
    "            \"Model_name\": model_name,\n",
    "            \"Model\": model,\n",
    "            **metrics\n",
    "        })\n",
    "    return model_metrics"
   ]
  },
  {
   "cell_type": "code",
   "execution_count": 111,
   "id": "30954f73",
   "metadata": {},
   "outputs": [
    {
     "name": "stdout",
     "output_type": "stream",
     "text": [
      "--KNeighborsClassifier--\n",
      "Fit time: 0.0748 seconds\n",
      "\n",
      "--DecisionTreeClassifier--\n",
      "Fit time: 0.4929 seconds\n",
      "\n",
      "--LogisticRegression--\n",
      "Fit time: 0.2378 seconds\n",
      "\n",
      "--RandomForestClassifier--\n",
      "Fit time: 9.2764 seconds\n",
      "\n",
      "--GradientBoostingClassifier--\n",
      "Fit time: 4.8301 seconds\n",
      "\n",
      "--VotingClassifier--\n",
      "Fit time: 13.5237 seconds\n",
      "\n"
     ]
    }
   ],
   "source": [
    "model_summary = calculate_metrics_for_models(models, X_train, y_train, X_test, y_test)"
   ]
  },
  {
   "cell_type": "code",
   "execution_count": 112,
   "id": "32f995e5",
   "metadata": {},
   "outputs": [],
   "source": [
    "def summary(model_summary):\n",
    "    \"\"\"\n",
    "    Display a summary of model performance and sort by F1 Score and Recall.\n",
    "\n",
    "    Parameters:\n",
    "    model_summary (list): A list of dictionaries containing model performance metrics.\n",
    "\n",
    "    Returns:\n",
    "    None\n",
    "    \"\"\"\n",
    "    # Create a DataFrame from the model summary\n",
    "    model_summary_df = pd.DataFrame(model_summary).drop(columns=[\"Model\"])\n",
    "    \n",
    "    # Print the model performance summary\n",
    "    print(\"Model Performance Summary:\")\n",
    "    sorted_summary = model_summary_df.sort_values([\"F1 Score\", \"Recall\"], ascending=False)\n",
    "    print(sorted_summary)"
   ]
  },
  {
   "cell_type": "code",
   "execution_count": 113,
   "id": "2ba41834",
   "metadata": {},
   "outputs": [
    {
     "name": "stdout",
     "output_type": "stream",
     "text": [
      "Model Performance Summary:\n",
      "                   Model_name  Accuracy  Precision    Recall  F1 Score\n",
      "1      DecisionTreeClassifier  0.501667   0.499460  0.495313  0.497378\n",
      "5            VotingClassifier  0.500533   0.498319  0.496183  0.497249\n",
      "0        KNeighborsClassifier  0.500167   0.497937  0.492902  0.495407\n",
      "3      RandomForestClassifier  0.489267   0.486241  0.459087  0.472274\n",
      "4  GradientBoostingClassifier  0.496767   0.493045  0.386902  0.433572\n",
      "2          LogisticRegression  0.497667   0.493434  0.342172  0.404112\n"
     ]
    }
   ],
   "source": [
    "summary(model_summary)"
   ]
  },
  {
   "cell_type": "code",
   "execution_count": 114,
   "id": "6186bce0",
   "metadata": {},
   "outputs": [],
   "source": [
    "def get_model(model_to_get, summary=model_summary):\n",
    "    \"\"\"\n",
    "    Retrieve a model from the model summary based on its name.\n",
    "\n",
    "    Parameters:\n",
    "    model_to_get (str): The name of the model to retrieve.\n",
    "    summary (list, optional): The model summary list to search for the model.\n",
    "\n",
    "    Returns:\n",
    "    model: The requested model instance.\n",
    "    \"\"\"\n",
    "    if summary is None:\n",
    "        raise ValueError(\"Model summary (summary) should be provided.\")\n",
    "\n",
    "    if not isinstance(summary, list):\n",
    "        raise TypeError(\"Model summary (summary) should be a list.\")\n",
    "\n",
    "    for stat in summary:\n",
    "        if stat[\"Model_name\"].lower() == model_to_get.lower():\n",
    "            return stat[\"Model\"]\n",
    "\n",
    "    raise KeyError(\"Model not found in the model summary.\")  "
   ]
  },
  {
   "cell_type": "code",
   "execution_count": 115,
   "id": "0c496803",
   "metadata": {},
   "outputs": [],
   "source": [
    "def add_model(model, model_name, X_train, y_train, X_test, y_test, add_in=None,):\n",
    "    \"\"\"\n",
    "    Add a model and its metrics to the model summary.\n",
    "\n",
    "    Parameters:\n",
    "    model: A trained classification model.\n",
    "    model_name (str): The name of the model.\n",
    "    add_in (list, optional): The model summary list to append the model metrics to.\n",
    "\n",
    "    Returns:\n",
    "    None\n",
    "    \"\"\"\n",
    "    if add_in is None:\n",
    "        raise ValueError(\"Model summary (add_in) should be provided.\")\n",
    "\n",
    "    if not isinstance(add_in, list):\n",
    "        raise TypeError(\"Model summary (add_in) should be a list.\")\n",
    "        \n",
    "    new_model = [(model_name,model)]\n",
    "    metrics = calculate_metrics_for_models(new_model, X_train, y_train, X_test, y_test)\n",
    "    add_in.extend(metrics)\n",
    "    return add_in"
   ]
  },
  {
   "cell_type": "markdown",
   "id": "24c672a9",
   "metadata": {},
   "source": [
    "Neural Network"
   ]
  },
  {
   "cell_type": "code",
   "execution_count": 162,
   "id": "7fe95d9c",
   "metadata": {},
   "outputs": [],
   "source": [
    "#converting to tenor dataset\n",
    "def tensor_dataset(X, y):\n",
    "    \"\"\"\n",
    "    Create a PyTorch tensor dataset from input features and labels.\n",
    "\n",
    "    Parameters:\n",
    "        X (array-like): Input features.\n",
    "        y (array-like): Labels.\n",
    "\n",
    "    Returns:\n",
    "        torch.utils.data.TensorDataset: Tensor dataset containing X and y.\n",
    "    \"\"\"\n",
    "    X_tensor = torch.from_numpy(np.array(X))\n",
    "    y_tensor = torch.from_numpy(np.array(y)).reshape(-1, 1)\n",
    "    dataset = TensorDataset(X_tensor, y_tensor)\n",
    "    return dataset"
   ]
  },
  {
   "cell_type": "code",
   "execution_count": 165,
   "id": "110f119d",
   "metadata": {},
   "outputs": [
    {
     "data": {
      "text/plain": [
       "(tensor([[63.0000,  1.0000,  2.0000,  0.6525,  0.4107, -0.2920],\n",
       "         [62.0000,  0.0000,  4.0000, -1.6632, -0.8053, -0.7840],\n",
       "         [24.0000,  0.0000,  2.0000, -1.0819,  1.0092,  1.4202]],\n",
       "        dtype=torch.float64),\n",
       " tensor([[0],\n",
       "         [0],\n",
       "         [0]], dtype=torch.int32))"
      ]
     },
     "execution_count": 165,
     "metadata": {},
     "output_type": "execute_result"
    }
   ],
   "source": [
    "tensor_data = tensor_dataset(X,y)\n",
    "tensor_data[:3]"
   ]
  },
  {
   "cell_type": "code",
   "execution_count": 175,
   "id": "efca38e3",
   "metadata": {},
   "outputs": [],
   "source": [
    "#Splitting data\n",
    "def split_dataset(data, train_size, val_size, test_size):\n",
    "    \"\"\"\n",
    "    Split a dataset into training, validation, and test sets using random_split.\n",
    "\n",
    "    Parameters:\n",
    "        data (torch.utils.data.Dataset): The dataset to be split.\n",
    "        train_size (int): Size of the training set.\n",
    "        val_size (int): Size of the validation set.\n",
    "        test_size (int): Size of the test set.\n",
    "\n",
    "    Returns:\n",
    "        tuple: A tuple containing train, validation, and test datasets.\n",
    "    \"\"\"\n",
    "    total_size = len(data)\n",
    "    assert train_size + val_size + test_size == total_size, \"Sizes don't add up to total size of the dataset.\"\n",
    "\n",
    "    train_ds, val_ds, test_ds = random_split(data, [train_size, val_size, test_size])\n",
    "    return train_ds, val_ds, test_ds"
   ]
  },
  {
   "cell_type": "code",
   "execution_count": 180,
   "id": "20f2f19a",
   "metadata": {},
   "outputs": [
    {
     "name": "stdout",
     "output_type": "stream",
     "text": [
      "train_length:80000 | validation_length:15000 | test_length:5000\n"
     ]
    }
   ],
   "source": [
    "train_ds, val_ds, test_ds = split_dataset(tensor_data, 80000, 15000, 5000)\n",
    "print(f\"train_length:{len(train_ds)} | validation_length:{len(val_ds)} | test_length:{len(test_ds)}\")"
   ]
  },
  {
   "cell_type": "code",
   "execution_count": 181,
   "id": "5843672e",
   "metadata": {},
   "outputs": [],
   "source": [
    "#creating batches of data\n",
    "def dataloader(dataset, batch_size, shuffle=True):\n",
    "    \"\"\"\n",
    "    Create a PyTorch DataLoader for the given dataset.\n",
    "\n",
    "    Parameters:\n",
    "        dataset (torch.utils.data.Dataset): The dataset to be loaded.\n",
    "        batch_size (int): Batch size for loading data.\n",
    "\n",
    "    Returns:\n",
    "        torch.utils.data.DataLoader: DataLoader for the specified dataset.\n",
    "    \"\"\"\n",
    "    loader = DataLoader(dataset, batch_size=batch_size, shuffle=shuffle)\n",
    "    return loader"
   ]
  },
  {
   "cell_type": "code",
   "execution_count": 182,
   "id": "0372b1fd",
   "metadata": {},
   "outputs": [],
   "source": [
    "train_dl = dataloader(train_ds, 5000, shuffle=True)\n",
    "val_dl = dataloader(val_ds, 5000, shuffle=False)\n",
    "test_dl = dataloader(test_ds, 5000, shuffle=False)"
   ]
  },
  {
   "cell_type": "code",
   "execution_count": 183,
   "id": "ab8b9ae6",
   "metadata": {},
   "outputs": [
    {
     "name": "stdout",
     "output_type": "stream",
     "text": [
      "tensor([[44.0000,  1.0000,  0.0000, -0.2126, -0.6877,  1.5344],\n",
      "        [33.0000,  1.0000,  3.0000,  1.0837, -1.6948,  0.6041],\n",
      "        [61.0000,  0.0000,  3.0000,  1.3707, -1.4575,  1.6333],\n",
      "        ...,\n",
      "        [68.0000,  0.0000,  1.0000,  1.0837, -0.7688, -0.0771],\n",
      "        [21.0000,  0.0000,  0.0000,  0.2205, -0.4533, -1.4004],\n",
      "        [18.0000,  0.0000,  3.0000,  0.9400, -0.6644, -1.4467]],\n",
      "       dtype=torch.float64) tensor([[0],\n",
      "        [0],\n",
      "        [0],\n",
      "        ...,\n",
      "        [0],\n",
      "        [1],\n",
      "        [1]], dtype=torch.int32)\n"
     ]
    }
   ],
   "source": [
    "for xb,yb in train_dl:\n",
    "    print(xb,yb)\n",
    "    break"
   ]
  },
  {
   "cell_type": "code",
   "execution_count": 184,
   "id": "6a34a9d0",
   "metadata": {},
   "outputs": [
    {
     "name": "stdout",
     "output_type": "stream",
     "text": [
      "torch.Size([5000, 6]) tensor([[1],\n",
      "        [0],\n",
      "        [1],\n",
      "        ...,\n",
      "        [1],\n",
      "        [0],\n",
      "        [1]], dtype=torch.int32)\n"
     ]
    }
   ],
   "source": [
    "for batch in train_dl:\n",
    "    features,labels = batch\n",
    "    print(features.shape,labels)\n",
    "    break"
   ]
  },
  {
   "cell_type": "code",
   "execution_count": 248,
   "id": "185a4eab",
   "metadata": {},
   "outputs": [],
   "source": [
    "#Network building \n",
    "def accuracy(outputs, actuals):\n",
    "    \"\"\"\n",
    "    Calculate the accuracy of model predictions.\n",
    "\n",
    "    Parameters:\n",
    "        outputs (torch.Tensor): Model predictions.\n",
    "        actuals (torch.Tensor): Actual labels.\n",
    "\n",
    "    Returns:\n",
    "        torch.Tensor: Accuracy of the predictions.\n",
    "    \"\"\"\n",
    "    _, preds = torch.max(outputs, dim=1)\n",
    "    acc = torch.tensor(torch.sum(preds == actuals).item() / len(preds))\n",
    "    return acc\n",
    "\n",
    "class LogisticRegression(nn.Module):\n",
    "    \"\"\"\n",
    "    Logistic Regression Model.\n",
    "\n",
    "    This class represents a logistic regression model for binary classification.\n",
    "\n",
    "    Methods:\n",
    "        training_step: Perform a training step.\n",
    "        validation_step: Perform a validation step.\n",
    "        validation_epoch_end: Compute validation loss and accuracy at the end of an epoch.\n",
    "        epoch_end: Print training and validation metrics at the end of an epoch.\n",
    "        evaluate: Evaluate the model on a validation dataloader.\n",
    "\n",
    "    \"\"\"\n",
    "\n",
    "    def training_step(self, batch):\n",
    "        \"\"\"\n",
    "        Perform a training step.\n",
    "\n",
    "        Parameters:\n",
    "            batch (tuple): A tuple containing features and labels.\n",
    "\n",
    "        Returns:\n",
    "            torch.Tensor: Loss for the current training step.\n",
    "        \"\"\"\n",
    "        features, labels = batch\n",
    "        outputs = self(features)\n",
    "        loss = F.cross_entropy(outputs, labels.squeeze().long())\n",
    "        return loss\n",
    "\n",
    "    def validation_step(self, batch):\n",
    "        \"\"\"\n",
    "        Perform a validation step.\n",
    "\n",
    "        Parameters:\n",
    "            batch (tuple): A tuple containing features and labels.\n",
    "\n",
    "        Returns:\n",
    "            dict: Validation loss and accuracy.\n",
    "        \"\"\"\n",
    "        features, labels = batch\n",
    "        outputs = self(features)\n",
    "        loss = F.cross_entropy(outputs, labels.squeeze().long())\n",
    "        acc = accuracy(outputs, labels.squeeze().long())\n",
    "        return {\"val loss\": loss.detach(), \"val acc\": acc}\n",
    "\n",
    "    def validation_epoch_end(self, outputs):\n",
    "        \"\"\"\n",
    "        Compute validation loss and accuracy at the end of an epoch.\n",
    "\n",
    "        Parameters:\n",
    "            outputs (list): List of dictionaries containing validation loss and accuracy.\n",
    "\n",
    "        Returns:\n",
    "            dict: Validation loss and accuracy for the epoch.\n",
    "        \"\"\"\n",
    "        batch_loss = [x[\"val loss\"] for x in outputs]\n",
    "        epoch_loss = torch.stack(batch_loss).mean()\n",
    "        batch_acc = [x[\"val acc\"] for x in outputs]\n",
    "        epoch_acc = torch.stack(batch_acc).mean()\n",
    "        return {\"val loss\": epoch_loss.item(), \"val acc\": epoch_acc.item()}\n",
    "\n",
    "    def epoch_end(self, epoch_num, results, fit_one_cycle=False):\n",
    "        \"\"\"\n",
    "        Print training and validation metrics at the end of an epoch.\n",
    "\n",
    "        Parameters:\n",
    "            epoch_num (int): Epoch number.\n",
    "            results (dict): Training and validation metrics for the epoch.\n",
    "            fit_one_cycle (bool, optional): Whether using a one-cycle learning rate policy.\n",
    "\n",
    "        \"\"\"\n",
    "        if epoch_num%10==0:\n",
    "            if fit_one_cycle:\n",
    "                print(\"Epoch [{}], last_lr: {:.5f}, train loss: {:.4f}, val loss: {:.4f}, val acc: {:.4f}\".format(\n",
    "                    epoch_num, results['lrs'][-1], results['train loss'], results['val loss'], results['val acc']))\n",
    "            else:\n",
    "                print(\"Epoch[{}] -> TRAIN LOSS : {:.4f} | VALIDATION LOSS : {:.4f} | VALIDATION ACC : {:.4f}\".format(\n",
    "                    epoch_num, results[\"train loss\"], results[\"val loss\"], results[\"val acc\"]))\n",
    "\n",
    "    @torch.no_grad()\n",
    "    def evaluate(self, val_dl):\n",
    "        \"\"\"\n",
    "        Evaluate the model on a validation dataloader.\n",
    "\n",
    "        Parameters:\n",
    "            val_dl (torch.utils.data.DataLoader): Dataloader for validation dataset.\n",
    "\n",
    "        Returns:\n",
    "            dict: Validation loss and accuracy.\n",
    "        \"\"\"\n",
    "        self.eval()\n",
    "        outputs = [self.validation_step(batch) for batch in val_dl]\n",
    "        return self.validation_epoch_end(outputs)"
   ]
  },
  {
   "cell_type": "code",
   "execution_count": 249,
   "id": "7b074621",
   "metadata": {},
   "outputs": [],
   "source": [
    "class NetworkArchitecture(LogisticRegression):\n",
    "    \"\"\"\n",
    "    Logistic Regression Model.\n",
    "\n",
    "    This class represents a logistic regression model for binary classification.\n",
    "\n",
    "    Args:\n",
    "        input_dim (int): Number of input features.\n",
    "        output_dim (int): Number of output classes.\n",
    "\n",
    "    Attributes:\n",
    "        model (torch.nn.Sequential): The sequential model comprising linear, batch normalization, and activation layers.\n",
    "\n",
    "    Methods:\n",
    "        forward(x): Forward pass through the model.\n",
    "\n",
    "    \"\"\"\n",
    "\n",
    "    def __init__(self, input_dim, output_dim):\n",
    "        \"\"\"\n",
    "        Initialize the Logistic_Regression model.\n",
    "\n",
    "        Args:\n",
    "            input_dim (int): Number of input features.\n",
    "            output_dim (int): Number of output classes.\n",
    "\n",
    "        \"\"\"\n",
    "        super(NetworkArchitecture, self).__init__()\n",
    "        self.model = nn.Sequential(\n",
    "            nn.Linear(input_dim, 3),\n",
    "            nn.BatchNorm1d(3),\n",
    "            nn.ReLU(),\n",
    "            nn.Linear(3, output_dim)\n",
    "        )\n",
    "\n",
    "    def forward(self, x):\n",
    "        \"\"\"\n",
    "        Perform a forward pass through the model.\n",
    "\n",
    "        Args:\n",
    "            x (torch.Tensor): Input tensor.\n",
    "\n",
    "        Returns:\n",
    "            torch.Tensor: Output tensor after the forward pass.\n",
    "\n",
    "        \"\"\"\n",
    "        x = x.float()\n",
    "        outputs = torch.sigmoid(self.model(x))\n",
    "        return outputs"
   ]
  },
  {
   "cell_type": "code",
   "execution_count": 250,
   "id": "521301ec",
   "metadata": {},
   "outputs": [],
   "source": [
    "#input and output dimensions\n",
    "input_dim = len(X.columns)\n",
    "output_dim = len(np.unique(y))"
   ]
  },
  {
   "cell_type": "code",
   "execution_count": 251,
   "id": "7670ba21",
   "metadata": {},
   "outputs": [],
   "source": [
    "#models\n",
    "model_f = NetworkArchitecture(input_dim, output_dim) # normal fit method\n",
    "model_foc = NetworkArchitecture(input_dim, output_dim) # fit one cycle"
   ]
  },
  {
   "cell_type": "markdown",
   "id": "3f2addbf",
   "metadata": {},
   "source": [
    "<u>fit method</u>"
   ]
  },
  {
   "cell_type": "code",
   "execution_count": 252,
   "id": "77d5f685",
   "metadata": {},
   "outputs": [],
   "source": [
    "def fit(epoch_num, lr, model, train_dl, val_dl, optim_func):\n",
    "    \"\"\"\n",
    "    Train the model using the specified optimizer and training parameters.\n",
    "\n",
    "    Parameters:\n",
    "        epoch_num (int): Number of epochs for training.\n",
    "        lr (float): Learning rate for the optimizer.\n",
    "        model (nn.Module): PyTorch model to train.\n",
    "        train_dl (DataLoader): Dataloader for training data.\n",
    "        val_dl (DataLoader): Dataloader for validation data.\n",
    "        optim_func: Optimizer function (e.g., torch.optim.Adam).\n",
    "\n",
    "    Returns:\n",
    "        list: Training history containing metrics for each epoch.\n",
    "    \"\"\"\n",
    "    optimizer = optim_func(model.parameters(), lr)\n",
    "    history = []\n",
    "\n",
    "    for epoch in range(epoch_num):\n",
    "        train_losses = []\n",
    "\n",
    "        for batch in train_dl:\n",
    "            loss = model.training_step(batch)\n",
    "            train_losses.append(loss)\n",
    "            loss.backward()\n",
    "            optimizer.step()\n",
    "            optimizer.zero_grad()\n",
    "\n",
    "        results = model.evaluate(val_dl)\n",
    "        results[\"train loss\"] = torch.stack(train_losses).mean()\n",
    "        model.epoch_end(epoch, results)\n",
    "        history.append(results)\n",
    "\n",
    "    return history"
   ]
  },
  {
   "cell_type": "code",
   "execution_count": 245,
   "id": "6bd23a18",
   "metadata": {},
   "outputs": [
    {
     "data": {
      "text/plain": [
       "{'val loss': 0.6941781044006348, 'val acc': 0.4983333349227905}"
      ]
     },
     "execution_count": 245,
     "metadata": {},
     "output_type": "execute_result"
    }
   ],
   "source": [
    "model_f.evaluate(val_dl)"
   ]
  },
  {
   "cell_type": "code",
   "execution_count": 253,
   "id": "6c11c5a7",
   "metadata": {},
   "outputs": [],
   "source": [
    "#defining paramters\n",
    "num_epochs = 101\n",
    "opt_func = torch.optim.Adam\n",
    "lr = 0.001"
   ]
  },
  {
   "cell_type": "code",
   "execution_count": 254,
   "id": "8fddac7f",
   "metadata": {},
   "outputs": [
    {
     "name": "stdout",
     "output_type": "stream",
     "text": [
      "Epoch[0] -> TRAIN LOSS : 0.7002 | VALIDATION LOSS : 0.6991 | VALIDATION ACC : 0.4941\n",
      "Epoch[10] -> TRAIN LOSS : 0.6933 | VALIDATION LOSS : 0.6935 | VALIDATION ACC : 0.4941\n",
      "Epoch[20] -> TRAIN LOSS : 0.6932 | VALIDATION LOSS : 0.6933 | VALIDATION ACC : 0.4996\n",
      "Epoch[30] -> TRAIN LOSS : 0.6931 | VALIDATION LOSS : 0.6933 | VALIDATION ACC : 0.5014\n",
      "Epoch[40] -> TRAIN LOSS : 0.6931 | VALIDATION LOSS : 0.6932 | VALIDATION ACC : 0.5013\n",
      "Epoch[50] -> TRAIN LOSS : 0.6931 | VALIDATION LOSS : 0.6932 | VALIDATION ACC : 0.5039\n",
      "Epoch[60] -> TRAIN LOSS : 0.6931 | VALIDATION LOSS : 0.6932 | VALIDATION ACC : 0.5069\n",
      "Epoch[70] -> TRAIN LOSS : 0.6931 | VALIDATION LOSS : 0.6932 | VALIDATION ACC : 0.5075\n",
      "Epoch[80] -> TRAIN LOSS : 0.6931 | VALIDATION LOSS : 0.6932 | VALIDATION ACC : 0.5109\n",
      "Epoch[90] -> TRAIN LOSS : 0.6931 | VALIDATION LOSS : 0.6931 | VALIDATION ACC : 0.5067\n"
     ]
    }
   ],
   "source": [
    "%%time\n",
    "history = fit(num_epochs, lr, model_f, train_dl, val_dl, opt_func)"
   ]
  },
  {
   "cell_type": "code",
   "execution_count": 289,
   "id": "407fc620",
   "metadata": {},
   "outputs": [],
   "source": [
    "def plot_accuracies(history):\n",
    "    \"\"\"\n",
    "    Plot validation accuracies over epochs.\n",
    "\n",
    "    Parameters:\n",
    "        history (list): List of dictionaries containing validation metrics.\n",
    "\n",
    "    Returns:\n",
    "        None\n",
    "    \"\"\"\n",
    "    plt.figure(figsize=(10,5))\n",
    "    accuracies = [x['val acc'] for x in history]\n",
    "    plt.plot(accuracies, '-')\n",
    "    plt.xlabel('Epoch')\n",
    "    plt.ylabel('Accuracy')\n",
    "    plt.title('Accuracy vs. No. of Epochs')\n",
    "    plt.show()"
   ]
  },
  {
   "cell_type": "code",
   "execution_count": 303,
   "id": "428bdc54",
   "metadata": {},
   "outputs": [],
   "source": [
    "def plot_losses(history):\n",
    "    \"\"\"\n",
    "    Plot training and validation losses over epochs.\n",
    "\n",
    "    Parameters:\n",
    "        history (list): List of dictionaries containing training and validation metrics.\n",
    "\n",
    "    Returns:\n",
    "        None\n",
    "    \"\"\"\n",
    "    train_losses = [x.get('train loss').item() for x in history]\n",
    "    val_losses = [x['val loss'].item() if isinstance(x['val loss'], torch.Tensor) else x['val loss'] for x in history]\n",
    "    \n",
    "    plt.figure(figsize=(10,5))\n",
    "    plt.plot(train_losses, '-b', label='Training Loss')\n",
    "    plt.plot(val_losses, '-r', label='Validation Loss')\n",
    "    plt.xlabel('Epoch')\n",
    "    plt.ylabel('Loss')\n",
    "    plt.legend()\n",
    "    plt.title('Loss vs. No. of Epochs')\n",
    "    plt.show()"
   ]
  },
  {
   "cell_type": "code",
   "execution_count": 297,
   "id": "6b1b39b8",
   "metadata": {},
   "outputs": [
    {
     "data": {
      "image/png": "[encoded data removed]",
      "text/plain": [
       "<Figure size 720x360 with 1 Axes>"
      ]
     },
     "metadata": {
      "needs_background": "light"
     },
     "output_type": "display_data"
    }
   ],
   "source": [
    "plot_accuracies(history)"
   ]
  },
  {
   "cell_type": "code",
   "execution_count": 298,
   "id": "6ee98184",
   "metadata": {},
   "outputs": [
    {
     "data": {
      "image/png": "[encoded data removed]",
      "text/plain": [
       "<Figure size 720x360 with 1 Axes>"
      ]
     },
     "metadata": {
      "needs_background": "light"
     },
     "output_type": "display_data"
    }
   ],
   "source": [
    "plot_losses(history)"
   ]
  },
  {
   "cell_type": "markdown",
   "id": "1522705d",
   "metadata": {},
   "source": [
    "<u>fit one cycle</u>"
   ]
  },
  {
   "cell_type": "code",
   "execution_count": 292,
   "id": "1a43bf97",
   "metadata": {},
   "outputs": [],
   "source": [
    "def get_lr(optimizer):\n",
    "    \"\"\"\n",
    "    Get the learning rate from the optimizer.\n",
    "\n",
    "    Parameters:\n",
    "        optimizer (torch.optim.Optimizer): Optimizer used for training.\n",
    "\n",
    "    Returns:\n",
    "        float: Learning rate.\n",
    "    \"\"\"\n",
    "    for param_group in optimizer.param_groups:\n",
    "        return param_group['lr']\n",
    "\n",
    "def fit_one_cycle(epochs, max_lr, model, train_loader, val_loader, \n",
    "                  weight_decay=0, grad_clip=None, opt_func=torch.optim.SGD):\n",
    "    \"\"\"\n",
    "    Train the model using the One Cycle Policy.\n",
    "\n",
    "    Parameters:\n",
    "        epochs (int): Number of epochs to train.\n",
    "        max_lr (float): Maximum learning rate.\n",
    "        model: The model to train.\n",
    "        train_loader (torch.utils.data.DataLoader): DataLoader for the training set.\n",
    "        val_loader (torch.utils.data.DataLoader): DataLoader for the validation set.\n",
    "        weight_decay (float, optional): Weight decay (L2 regularization). Default is 0.\n",
    "        grad_clip (float, optional): Gradient clipping value. Default is None.\n",
    "        opt_func (torch.optim.Optimizer, optional): Optimizer function. Default is torch.optim.SGD.\n",
    "\n",
    "    Returns:\n",
    "        list: List of dictionaries containing training and validation metrics for each epoch.\n",
    "    \"\"\"\n",
    "    torch.cuda.empty_cache()\n",
    "    history = []\n",
    "    \n",
    "    optimizer = opt_func(model.parameters(), max_lr, weight_decay=weight_decay)\n",
    "\n",
    "    sched = torch.optim.lr_scheduler.OneCycleLR(optimizer, max_lr, epochs=epochs, \n",
    "                                                steps_per_epoch=len(train_loader))\n",
    "    \n",
    "    for epoch in range(epochs): \n",
    "        model.train()\n",
    "        train_losses = []\n",
    "        lrs = []\n",
    "        for batch in train_loader:\n",
    "            loss = model.training_step(batch)\n",
    "            train_losses.append(loss)\n",
    "            loss.backward()\n",
    "            if grad_clip: \n",
    "                nn.utils.clip_grad_value_(model.parameters(), grad_clip)\n",
    "            optimizer.step()\n",
    "            optimizer.zero_grad()\n",
    "            lrs.append(get_lr(optimizer))\n",
    "            sched.step()\n",
    "        result = model.evaluate(val_loader)\n",
    "        result['train loss'] = torch.stack(train_losses).mean()\n",
    "        result['lrs'] = lrs\n",
    "        model.epoch_end(epoch, result, fit_one_cycle=True)\n",
    "        history.append(result)\n",
    "    return history"
   ]
  },
  {
   "cell_type": "code",
   "execution_count": 293,
   "id": "8bd6f806",
   "metadata": {},
   "outputs": [
    {
     "data": {
      "text/plain": [
       "[{'val loss': 0.6931398510932922, 'val acc': 0.5051999688148499}]"
      ]
     },
     "execution_count": 293,
     "metadata": {},
     "output_type": "execute_result"
    }
   ],
   "source": [
    "history_foc = [model_foc.evaluate(val_dl)]\n",
    "history_foc"
   ]
  },
  {
   "cell_type": "code",
   "execution_count": 294,
   "id": "3c64e246",
   "metadata": {},
   "outputs": [],
   "source": [
    "epochs = 101\n",
    "max_lr = 0.01\n",
    "grad_clip = 0.1\n",
    "weight_decay = 1e-4\n",
    "opt_func = torch.optim.Adam"
   ]
  },
  {
   "cell_type": "code",
   "execution_count": 295,
   "id": "0a78fc89",
   "metadata": {},
   "outputs": [
    {
     "name": "stdout",
     "output_type": "stream",
     "text": [
      "Epoch [0], last_lr: 0.00042, train loss: 0.6931, val loss: 0.6931, val acc: 0.5053\n",
      "Epoch [10], last_lr: 0.00318, train loss: 0.6931, val loss: 0.6931, val acc: 0.5050\n",
      "Epoch [20], last_lr: 0.00793, train loss: 0.6931, val loss: 0.6932, val acc: 0.5027\n",
      "Epoch [30], last_lr: 0.01000, train loss: 0.6931, val loss: 0.6931, val acc: 0.5073\n",
      "Epoch [40], last_lr: 0.00945, train loss: 0.6931, val loss: 0.6932, val acc: 0.5022\n",
      "Epoch [50], last_lr: 0.00803, train loss: 0.6931, val loss: 0.6931, val acc: 0.5043\n",
      "Epoch [60], last_lr: 0.00603, train loss: 0.6931, val loss: 0.6931, val acc: 0.5051\n",
      "Epoch [70], last_lr: 0.00382, train loss: 0.6931, val loss: 0.6932, val acc: 0.5021\n",
      "Epoch [80], last_lr: 0.00185, train loss: 0.6931, val loss: 0.6932, val acc: 0.5013\n",
      "Epoch [90], last_lr: 0.00049, train loss: 0.6931, val loss: 0.6932, val acc: 0.5051\n",
      "Epoch [100], last_lr: 0.00000, train loss: 0.6931, val loss: 0.6932, val acc: 0.5039\n",
      "CPU times: total: 3min 30s\n",
      "Wall time: 2min 7s\n"
     ]
    }
   ],
   "source": [
    "%%time\n",
    "history_foc += fit_one_cycle(epochs, max_lr, model_foc,\n",
    "                         train_dl, val_dl, \n",
    "                         grad_clip = grad_clip, \n",
    "                         weight_decay = weight_decay, \n",
    "                         opt_func = opt_func)"
   ]
  },
  {
   "cell_type": "code",
   "execution_count": 299,
   "id": "c6fe2b0e",
   "metadata": {},
   "outputs": [
    {
     "data": {
      "image/png": "[encoded data removed]",
      "text/plain": [
       "<Figure size 720x360 with 1 Axes>"
      ]
     },
     "metadata": {
      "needs_background": "light"
     },
     "output_type": "display_data"
    }
   ],
   "source": [
    "plot_accuracies(history_foc)"
   ]
  },
  {
   "cell_type": "code",
   "execution_count": 307,
   "id": "c12f168c",
   "metadata": {},
   "outputs": [],
   "source": [
    "def plot_lrs(history):\n",
    "    \"\"\"\n",
    "    Plot the learning rates for each batch.\n",
    "\n",
    "    Parameters:\n",
    "        history (list): List of dictionaries containing training and validation metrics for each epoch.\n",
    "\n",
    "    Returns:\n",
    "        None\n",
    "    \"\"\"\n",
    "    lrs = np.concatenate([x.get('lrs', []) for x in history])\n",
    "    plt.plot(lrs)\n",
    "    plt.xlabel('Batch no.')\n",
    "    plt.ylabel('Learning rate')\n",
    "    plt.title('Learning Rate vs. Batch no.')\n",
    "    plt.show()"
   ]
  },
  {
   "cell_type": "code",
   "execution_count": 308,
   "id": "72b55efe",
   "metadata": {},
   "outputs": [
    {
     "data": {
      "image/png": "[encoded data removed]",
      "text/plain": [
       "<Figure size 432x288 with 1 Axes>"
      ]
     },
     "metadata": {
      "needs_background": "light"
     },
     "output_type": "display_data"
    }
   ],
   "source": [
    "plot_lrs(history_foc)"
   ]
  },
  {
   "cell_type": "code",
   "execution_count": 309,
   "id": "d062587c",
   "metadata": {},
   "outputs": [],
   "source": [
    "#Saving the w&b\n",
    "folder_path = models_dir\n",
    "torch.save(model_f.state_dict(), folder_path + 'model_weights.pth')"
   ]
  },
  {
   "cell_type": "markdown",
   "id": "9975b04b",
   "metadata": {},
   "source": [
    "**Model Optimization**"
   ]
  },
  {
   "cell_type": "code",
   "execution_count": 116,
   "id": "ff69225f",
   "metadata": {},
   "outputs": [
    {
     "name": "stdout",
     "output_type": "stream",
     "text": [
      "Model Performance Summary:\n",
      "                   Model_name  Accuracy  Precision    Recall  F1 Score\n",
      "1      DecisionTreeClassifier  0.501667   0.499460  0.495313  0.497378\n",
      "5            VotingClassifier  0.500533   0.498319  0.496183  0.497249\n",
      "0        KNeighborsClassifier  0.500167   0.497937  0.492902  0.495407\n",
      "3      RandomForestClassifier  0.489267   0.486241  0.459087  0.472274\n",
      "4  GradientBoostingClassifier  0.496767   0.493045  0.386902  0.433572\n",
      "2          LogisticRegression  0.497667   0.493434  0.342172  0.404112\n"
     ]
    }
   ],
   "source": [
    "summary(model_summary) #We will optimize the top 2 models and compare"
   ]
  },
  {
   "cell_type": "markdown",
   "id": "562c2a66",
   "metadata": {},
   "source": [
    "- Decision Tree"
   ]
  },
  {
   "cell_type": "code",
   "execution_count": 117,
   "id": "f46738bf",
   "metadata": {},
   "outputs": [
    {
     "data": {
      "text/plain": [
       "DecisionTreeClassifier()"
      ]
     },
     "execution_count": 117,
     "metadata": {},
     "output_type": "execute_result"
    }
   ],
   "source": [
    "dt_classifier = get_model(\"decisiontreeclassifier\")\n",
    "dt_classifier"
   ]
  },
  {
   "cell_type": "code",
   "execution_count": 118,
   "id": "5e02e195",
   "metadata": {},
   "outputs": [],
   "source": [
    "#Define parameter combination\n",
    "param_grid = {\n",
    "    'criterion': ['gini', 'entropy'],\n",
    "    'max_depth': [None, 10, 20, 30, 40, 50],\n",
    "    'min_samples_split': [2, 5, 10],\n",
    "    'min_samples_leaf': [1, 2, 4]\n",
    "}"
   ]
  },
  {
   "cell_type": "code",
   "execution_count": 119,
   "id": "8edc0858",
   "metadata": {},
   "outputs": [
    {
     "data": {
      "text/plain": [
       "GridSearchCV(cv=5, estimator=DecisionTreeClassifier(), n_jobs=-1,\n",
       "             param_grid={'criterion': ['gini', 'entropy'],\n",
       "                         'max_depth': [None, 10, 20, 30, 40, 50],\n",
       "                         'min_samples_leaf': [1, 2, 4],\n",
       "                         'min_samples_split': [2, 5, 10]})"
      ]
     },
     "execution_count": 119,
     "metadata": {},
     "output_type": "execute_result"
    }
   ],
   "source": [
    "# Create the grid search using 5-fold cross-validation\n",
    "grid_search = GridSearchCV(dt_classifier, param_grid, cv=5, n_jobs=-1)\n",
    "\n",
    "# Fit the grid search to the data\n",
    "grid_search.fit(X_train, y_train)"
   ]
  },
  {
   "cell_type": "code",
   "execution_count": 120,
   "id": "ef1fe341",
   "metadata": {},
   "outputs": [
    {
     "name": "stdout",
     "output_type": "stream",
     "text": [
      "Best Hyperparameters:\n",
      "{'criterion': 'entropy', 'max_depth': None, 'min_samples_leaf': 1, 'min_samples_split': 5}\n"
     ]
    }
   ],
   "source": [
    "# Print the best hyperparameters found\n",
    "print(\"Best Hyperparameters:\")\n",
    "print(grid_search.best_params_)"
   ]
  },
  {
   "cell_type": "code",
   "execution_count": 121,
   "id": "59296d97",
   "metadata": {},
   "outputs": [],
   "source": [
    "# Use the best model\n",
    "best_dt_model = grid_search.best_estimator_"
   ]
  },
  {
   "cell_type": "code",
   "execution_count": 122,
   "id": "a2f67db1",
   "metadata": {
    "scrolled": true
   },
   "outputs": [
    {
     "name": "stdout",
     "output_type": "stream",
     "text": [
      "--TunedDecisionTreeClassifier--\n",
      "Fit time: 0.5554 seconds\n",
      "\n"
     ]
    }
   ],
   "source": [
    "#Add model in summary\n",
    "model_summary = add_model(best_dt_model,\"TunedDecisionTreeClassifier\",X_train, y_train, X_test, y_test, add_in=model_summary)"
   ]
  },
  {
   "cell_type": "markdown",
   "id": "2c1997a5",
   "metadata": {},
   "source": [
    "- Voting classifier"
   ]
  },
  {
   "cell_type": "code",
   "execution_count": 132,
   "id": "a9eb4a46",
   "metadata": {
    "scrolled": true
   },
   "outputs": [
    {
     "data": {
      "text/plain": [
       "VotingClassifier(estimators=[('knn', KNeighborsClassifier()),\n",
       "                             ('dt', DecisionTreeClassifier()),\n",
       "                             ('lr', LogisticRegression()),\n",
       "                             ('rf', RandomForestClassifier()),\n",
       "                             ('gr', GradientBoostingClassifier())],\n",
       "                 voting='soft')"
      ]
     },
     "execution_count": 132,
     "metadata": {},
     "output_type": "execute_result"
    }
   ],
   "source": [
    "voting_classifier = get_model(\"votingclassifier\")\n",
    "voting_classifier"
   ]
  },
  {
   "cell_type": "code",
   "execution_count": 133,
   "id": "50a14742",
   "metadata": {},
   "outputs": [],
   "source": [
    "#Define parameter combination\n",
    "param_grid = {\n",
    "    'knn__n_neighbors': [3, 5, 7],\n",
    "    'knn__weights': ['uniform', 'distance'],\n",
    "    'dt__max_depth': [None, 10, 20, 30],\n",
    "    'dt__min_samples_split': [2, 5, 10],\n",
    "    'lr__C': [0.1, 1.0, 10.0],\n",
    "    'lr__penalty': ['l1', 'l2'],\n",
    "    'rf__n_estimators': [50, 100, 200],\n",
    "    'rf__max_depth': [None, 10, 20, 30],\n",
    "    'gr__n_estimators': [50, 100, 200],\n",
    "    'gr__learning_rate': [0.05, 0.1, 0.2]\n",
    "}"
   ]
  },
  {
   "cell_type": "code",
   "execution_count": 134,
   "id": "ce08093d",
   "metadata": {},
   "outputs": [
    {
     "data": {
      "text/plain": [
       "RandomizedSearchCV(cv=5,\n",
       "                   estimator=VotingClassifier(estimators=[('knn',\n",
       "                                                           KNeighborsClassifier()),\n",
       "                                                          ('dt',\n",
       "                                                           DecisionTreeClassifier()),\n",
       "                                                          ('lr',\n",
       "                                                           LogisticRegression()),\n",
       "                                                          ('rf',\n",
       "                                                           RandomForestClassifier()),\n",
       "                                                          ('gr',\n",
       "                                                           GradientBoostingClassifier())],\n",
       "                                              voting='soft'),\n",
       "                   n_iter=20, n_jobs=-1,\n",
       "                   param_distributions={'dt__max_depth': [None, 10, 20, 30],\n",
       "                                        'dt__min_samples_split': [2, 5, 10],\n",
       "                                        'gr__learning_rate': [0.05, 0.1, 0.2],\n",
       "                                        'gr__n_estimators': [50, 100, 200],\n",
       "                                        'knn__n_neighbors': [3, 5, 7],\n",
       "                                        'knn__weights': ['uniform', 'distance'],\n",
       "                                        'lr__C': [0.1, 1.0, 10.0],\n",
       "                                        'lr__penalty': ['l1', 'l2'],\n",
       "                                        'rf__max_depth': [None, 10, 20, 30],\n",
       "                                        'rf__n_estimators': [50, 100, 200]})"
      ]
     },
     "execution_count": 134,
     "metadata": {},
     "output_type": "execute_result"
    }
   ],
   "source": [
    "# Create the random search using 5-fold cross-validation\n",
    "random_search = RandomizedSearchCV(voting_classifier, param_grid,n_iter=20, cv=5, n_jobs=-1)\n",
    "\n",
    "# Fit the random search to the data\n",
    "random_search.fit(X_train, y_train)"
   ]
  },
  {
   "cell_type": "code",
   "execution_count": 135,
   "id": "7dde3649",
   "metadata": {},
   "outputs": [],
   "source": [
    "# Use the best model\n",
    "best_vc_model = random_search.best_estimator_"
   ]
  },
  {
   "cell_type": "code",
   "execution_count": 136,
   "id": "09b7e4cc",
   "metadata": {},
   "outputs": [
    {
     "name": "stdout",
     "output_type": "stream",
     "text": [
      "--TunedVotingClassifier--\n",
      "Fit time: 5.1586 seconds\n",
      "\n"
     ]
    }
   ],
   "source": [
    "#Add model in summary\n",
    "model_summary = add_model(best_vc_model,\"TunedVotingClassifier\",X_train, y_train, X_test, y_test, add_in=model_summary)"
   ]
  },
  {
   "cell_type": "code",
   "execution_count": 137,
   "id": "279f6ff1",
   "metadata": {},
   "outputs": [
    {
     "name": "stdout",
     "output_type": "stream",
     "text": [
      "Model Performance Summary:\n",
      "                    Model_name  Accuracy  Precision    Recall  F1 Score\n",
      "1       DecisionTreeClassifier  0.501667   0.499460  0.495313  0.497378\n",
      "5             VotingClassifier  0.500533   0.498319  0.496183  0.497249\n",
      "0         KNeighborsClassifier  0.500167   0.497937  0.492902  0.495407\n",
      "7        TunedVotingClassifier  0.496833   0.494519  0.486340  0.490395\n",
      "6  TunedDecisionTreeClassifier  0.504867   0.502817  0.478037  0.490114\n",
      "3       RandomForestClassifier  0.489267   0.486241  0.459087  0.472274\n",
      "4   GradientBoostingClassifier  0.496767   0.493045  0.386902  0.433572\n",
      "2           LogisticRegression  0.497667   0.493434  0.342172  0.404112\n"
     ]
    }
   ],
   "source": [
    "#Summary view\n",
    "summary(model_summary) #Even after optimzation, base models have better performance"
   ]
  },
  {
   "cell_type": "markdown",
   "id": "a3dbad31",
   "metadata": {},
   "source": [
    "- Saving models"
   ]
  },
  {
   "cell_type": "code",
   "execution_count": 139,
   "id": "049f90c5",
   "metadata": {},
   "outputs": [
    {
     "data": {
      "text/plain": [
       "'Object saved successfully at: C:\\\\Users\\\\91738\\\\OneDrive\\\\Desktop\\\\SunbaseData\\\\models\\\\modelsummary.pkl'"
      ]
     },
     "execution_count": 139,
     "metadata": {},
     "output_type": "execute_result"
    }
   ],
   "source": [
    "save_object(model_summary,models_dir,\"modelsummary.pkl\")"
   ]
  },
  {
   "cell_type": "code",
   "execution_count": 140,
   "id": "8348ba8d",
   "metadata": {},
   "outputs": [
    {
     "data": {
      "text/plain": [
       "'Object saved successfully at: C:\\\\Users\\\\91738\\\\OneDrive\\\\Desktop\\\\SunbaseData\\\\models\\\\final_model.pkl'"
      ]
     },
     "execution_count": 140,
     "metadata": {},
     "output_type": "execute_result"
    }
   ],
   "source": [
    "save_object(dt_classifier,models_dir,\"final_model.pkl\")"
   ]
  },
  {
   "cell_type": "markdown",
   "id": "62d38b37",
   "metadata": {},
   "source": [
    "**Feature selection**"
   ]
  },
  {
   "cell_type": "code",
   "execution_count": 156,
   "id": "23b15683",
   "metadata": {},
   "outputs": [
    {
     "data": {
      "text/plain": [
       "DecisionTreeClassifier()"
      ]
     },
     "execution_count": 156,
     "metadata": {},
     "output_type": "execute_result"
    }
   ],
   "source": [
    "dummy_model = load_object(models_dir,\"final_model.pkl\")\n",
    "dummy_model"
   ]
  },
  {
   "cell_type": "code",
   "execution_count": 157,
   "id": "bb73cc04",
   "metadata": {},
   "outputs": [
    {
     "data": {
      "image/png": "[encoded data removed]",
      "text/plain": [
       "<Figure size 720x360 with 1 Axes>"
      ]
     },
     "metadata": {
      "needs_background": "light"
     },
     "output_type": "display_data"
    }
   ],
   "source": [
    "plt.figure(figsize=(10,5))\n",
    "if hasattr(dummy_model, 'feature_importances_'):\n",
    "    feature_importance = dummy_model.feature_importances_\n",
    "    plt.bar(range(len(feature_importance)), feature_importance)\n",
    "    plt.xlabel('Feature Index')\n",
    "    plt.ylabel('Feature Importance')\n",
    "    plt.title('Feature Importance Plot')\n",
    "    plt.show()"
   ]
  },
  {
   "cell_type": "code",
   "execution_count": 158,
   "id": "616c27dc",
   "metadata": {},
   "outputs": [],
   "source": [
    "max_components = X.shape[1]\n",
    "summary = {}  # Dictionary to store all metrics\n",
    "feature_names = X.columns\n",
    "\n",
    "for k in range(1, max_components):\n",
    "    selector = SelectKBest(score_func=mutual_info_classif, k=k)\n",
    "    X_new_train = selector.fit_transform(X_train, y_train)\n",
    "    X_new_test = selector.transform(X_test)\n",
    "    \n",
    "    # Get the names of the selected features\n",
    "    selected_feature_names = [feature_names[i] for i in selector.get_support(indices=True)]\n",
    "    \n",
    "    # Train the dummy model on the selected features\n",
    "    dummy_model.fit(X_new_train, y_train)\n",
    "    \n",
    "    # Make predictions and calculate evaluation metrics\n",
    "    y_preds = dummy_model.predict(X_new_test)\n",
    "    f1 = f1_score(y_test, y_preds)\n",
    "    recall = recall_score(y_test, y_preds)\n",
    "    accuracy = accuracy_score(y_test, y_preds)\n",
    "    precision = precision_score(y_test, y_preds)\n",
    "    \n",
    "    # Store the metrics and selected feature names in the summary dictionary\n",
    "    summary[f\"features[{k}]\"] = {\n",
    "        'f1_score': f1,\n",
    "        'recall_score': recall,\n",
    "        'accuracy_score': accuracy,\n",
    "        'precision_score': precision,\n",
    "        'selected_features': selected_feature_names\n",
    "    }"
   ]
  },
  {
   "cell_type": "code",
   "execution_count": 159,
   "id": "6648c6a0",
   "metadata": {},
   "outputs": [
    {
     "data": {
      "image/png": "[encoded data removed]",
      "text/plain": [
       "<Figure size 720x360 with 1 Axes>"
      ]
     },
     "metadata": {
      "needs_background": "light"
     },
     "output_type": "display_data"
    }
   ],
   "source": [
    "import matplotlib.pyplot as plt\n",
    "\n",
    "# Assuming 'summary' is the combined summary dictionary\n",
    "\n",
    "plt.figure(figsize=(10, 5))\n",
    "\n",
    "# Plot F1 score\n",
    "plt.plot(range(1, max_components), [score['f1_score'] for k, score in summary.items()], marker=\"o\", ms=4.5, label=\"F1 Score\", color='blue')\n",
    "\n",
    "# Plot Recall score\n",
    "plt.plot(range(1, max_components), [score['recall_score'] for k, score in summary.items()], marker=\"s\", ms=4.5, label=\"Recall Score\", color='green')\n",
    "\n",
    "# Plot Accuracy score\n",
    "plt.plot(range(1, max_components), [score['accuracy_score'] for k, score in summary.items()], marker=\"^\", ms=4.5, label=\"Accuracy Score\", color='red')\n",
    "\n",
    "# Plot Precision score\n",
    "plt.plot(range(1, max_components), [score['precision_score'] for k, score in summary.items()], marker=\"d\", ms=4.5, label=\"Precision Score\", color='purple')\n",
    "\n",
    "plt.xlabel(\"Number of Selected Features\")\n",
    "plt.ylabel(\"Score\")\n",
    "plt.title(\"Classification Metrics vs. Number of Selected Features\")\n",
    "plt.xlim(1, max_components-1)\n",
    "plt.grid(linewidth=0.5)\n",
    "plt.legend()\n",
    "plt.show()"
   ]
  },
  {
   "cell_type": "markdown",
   "id": "0c2c6a33",
   "metadata": {},
   "source": [
    "*Note*: Feature selection is deemed unnecessary as we achieve optimal results without employing this step."
   ]
  },
  {
   "cell_type": "markdown",
   "id": "71799aac",
   "metadata": {},
   "source": [
    "**Model Evaluation and deployment**"
   ]
  },
  {
   "cell_type": "markdown",
   "id": "cf573005",
   "metadata": {},
   "source": [
    "1 - Decision tree (best ml classifier)"
   ]
  },
  {
   "cell_type": "code",
   "execution_count": 332,
   "id": "c176ac2d",
   "metadata": {},
   "outputs": [
    {
     "data": {
      "text/plain": [
       "DecisionTreeClassifier()"
      ]
     },
     "execution_count": 332,
     "metadata": {},
     "output_type": "execute_result"
    }
   ],
   "source": [
    "final_model = load_object(models_dir,\"final_model.pkl\")\n",
    "final_model"
   ]
  },
  {
   "cell_type": "code",
   "execution_count": 333,
   "id": "65bda40f",
   "metadata": {},
   "outputs": [],
   "source": [
    "#making predictions\n",
    "y_preds = final_model.predict(X_test)"
   ]
  },
  {
   "cell_type": "code",
   "execution_count": 335,
   "id": "62fee4c0",
   "metadata": {},
   "outputs": [
    {
     "name": "stdout",
     "output_type": "stream",
     "text": [
      "accuracy:0.5017 | precision:0.4995\n",
      "recall:0.4953 | f1 score:0.4974\n"
     ]
    }
   ],
   "source": [
    "#metrices\n",
    "accuracy = accuracy_score(y_test, y_preds)\n",
    "precision = precision_score(y_test, y_preds)\n",
    "recall = recall_score(y_test, y_preds)\n",
    "f1 = f1_score(y_test, y_preds)\n",
    "\n",
    "print(f\"accuracy:{accuracy:.4f} | precision:{precision:.4f}\\nrecall:{recall:.4f} | f1 score:{f1:.4f}\")"
   ]
  },
  {
   "cell_type": "code",
   "execution_count": 340,
   "id": "627591d7",
   "metadata": {},
   "outputs": [
    {
     "data": {
      "image/png": "[encoded data removed]",
      "text/plain": [
       "<Figure size 288x288 with 1 Axes>"
      ]
     },
     "metadata": {},
     "output_type": "display_data"
    }
   ],
   "source": [
    "#confusion matrix\n",
    "conf_matrix = confusion_matrix(y_test, y_preds)\n",
    "\n",
    "sns.set(font_scale=1)\n",
    "plt.figure(figsize=(4, 4))\n",
    "sns.heatmap(conf_matrix, annot=True, cmap=\"Blues\", fmt=\"d\", cbar=False,\n",
    "            xticklabels=[\"Predicted 0\", \"Predicted 1\"], yticklabels=[\"Actual 0\", \"Actual 1\"])\n",
    "plt.xlabel(\"Predicted Labels\")\n",
    "plt.ylabel(\"True Labels\")\n",
    "plt.title(\"Confusion Matrix\")\n",
    "plt.show()"
   ]
  },
  {
   "cell_type": "code",
   "execution_count": 347,
   "id": "3a06313a",
   "metadata": {},
   "outputs": [
    {
     "name": "stdout",
     "output_type": "stream",
     "text": [
      "Classification Report:\n",
      "              precision    recall  f1-score   support\n",
      "\n",
      "           0       0.50      0.51      0.51     15066\n",
      "           1       0.50      0.50      0.50     14934\n",
      "\n",
      "    accuracy                           0.50     30000\n",
      "   macro avg       0.50      0.50      0.50     30000\n",
      "weighted avg       0.50      0.50      0.50     30000\n",
      "\n"
     ]
    }
   ],
   "source": [
    "classification_rep = classification_report(y_test, y_preds)\n",
    "print(\"Classification Report:\")\n",
    "print(classification_rep)"
   ]
  },
  {
   "cell_type": "markdown",
   "id": "c43bf649",
   "metadata": {},
   "source": [
    "2 - Neural Network"
   ]
  },
  {
   "cell_type": "code",
   "execution_count": 311,
   "id": "1b4b5e11",
   "metadata": {},
   "outputs": [],
   "source": [
    "#Reloading models\n",
    "nn_model = NetworkArchitecture(input_dim,output_dim)"
   ]
  },
  {
   "cell_type": "code",
   "execution_count": 313,
   "id": "95ebe3c0",
   "metadata": {},
   "outputs": [
    {
     "data": {
      "text/plain": [
       "<All keys matched successfully>"
      ]
     },
     "execution_count": 313,
     "metadata": {},
     "output_type": "execute_result"
    }
   ],
   "source": [
    "folder_path = models_dir\n",
    "model_weights_path = folder_path + 'model_weights.pth'\n",
    "nn_model.load_state_dict(torch.load(model_weights_path))"
   ]
  },
  {
   "cell_type": "code",
   "execution_count": 314,
   "id": "1b2fb601",
   "metadata": {},
   "outputs": [
    {
     "data": {
      "text/plain": [
       "NetworkArchitecture(\n",
       "  (model): Sequential(\n",
       "    (0): Linear(in_features=6, out_features=3, bias=True)\n",
       "    (1): BatchNorm1d(3, eps=1e-05, momentum=0.1, affine=True, track_running_stats=True)\n",
       "    (2): ReLU()\n",
       "    (3): Linear(in_features=3, out_features=2, bias=True)\n",
       "  )\n",
       ")"
      ]
     },
     "execution_count": 314,
     "metadata": {},
     "output_type": "execute_result"
    }
   ],
   "source": [
    "nn_model"
   ]
  },
  {
   "cell_type": "code",
   "execution_count": 318,
   "id": "fc51bfbb",
   "metadata": {},
   "outputs": [],
   "source": [
    "# Set the model to evaluation mode\n",
    "nn_model.eval()\n",
    "\n",
    "# Initialize lists to store predictions and labels\n",
    "predictions = []\n",
    "true_labels = []\n",
    "\n",
    "# Disable gradient calculation for inference\n",
    "with torch.no_grad(): \n",
    "    # Iterate through the test dataloader\n",
    "    for batch in test_dl:\n",
    "        inputs, targets = batch\n",
    "        # Get the model predictions\n",
    "        outputs = nn_model(inputs)\n",
    "        predictions.append(outputs.argmax(dim=1))\n",
    "        true_labels.append(targets)\n",
    "\n",
    "# Concatenate the predictions and true labels\n",
    "predictions = torch.cat(predictions, dim=0)\n",
    "true_labels = torch.cat(true_labels, dim=0)\n",
    "\n",
    "# Convert predictions to float type\n",
    "predictions = predictions.to(dtype=float)"
   ]
  },
  {
   "cell_type": "code",
   "execution_count": 320,
   "id": "4d07a854",
   "metadata": {},
   "outputs": [
    {
     "data": {
      "text/plain": [
       "tensor([0., 1., 0., 0., 0.], dtype=torch.float64)"
      ]
     },
     "execution_count": 320,
     "metadata": {},
     "output_type": "execute_result"
    }
   ],
   "source": [
    "predictions[:5]"
   ]
  },
  {
   "cell_type": "code",
   "execution_count": 321,
   "id": "5a2880d7",
   "metadata": {},
   "outputs": [
    {
     "data": {
      "text/plain": [
       "tensor([[1],\n",
       "        [0],\n",
       "        [0],\n",
       "        [1],\n",
       "        [1]], dtype=torch.int32)"
      ]
     },
     "execution_count": 321,
     "metadata": {},
     "output_type": "execute_result"
    }
   ],
   "source": [
    "labels[:5]"
   ]
  },
  {
   "cell_type": "code",
   "execution_count": 331,
   "id": "2b8ed1f8",
   "metadata": {},
   "outputs": [
    {
     "name": "stdout",
     "output_type": "stream",
     "text": [
      "True Positives (TP): 567\n",
      "False Positives (FP): 552\n",
      "False Negatives (FN): 1958\n",
      "True Negatives (TN): 1923\n"
     ]
    }
   ],
   "source": [
    "#Model evaluation \n",
    "y_pred_np = predictions.numpy().flatten()\n",
    "y_true_np = labels.numpy().flatten()\n",
    "\n",
    "TP = np.sum((y_true_np == 1) & (y_pred_np == 1))\n",
    "FP = np.sum((y_true_np == 0) & (y_pred_np == 1))\n",
    "FN = np.sum((y_true_np == 1) & (y_pred_np == 0))\n",
    "TN = np.sum((y_true_np == 0) & (y_pred_np == 0))\n",
    "conf_matrix = confusion_matrix(y_true_np, y_pred_np)\n",
    "\n",
    "print(\"True Positives (TP):\", TP)\n",
    "print(\"False Positives (FP):\", FP)\n",
    "print(\"False Negatives (FN):\", FN)\n",
    "print(\"True Negatives (TN):\", TN)"
   ]
  },
  {
   "cell_type": "code",
   "execution_count": 160,
   "id": "628bafd4",
   "metadata": {},
   "outputs": [
    {
     "data": {
      "image/png": "[encoded data removed]",
      "text/plain": [
       "<Figure size 288x288 with 1 Axes>"
      ]
     },
     "metadata": {},
     "output_type": "display_data"
    }
   ],
   "source": [
    "sns.set(font_scale=1)\n",
    "plt.figure(figsize=(4, 4))\n",
    "sns.heatmap(conf_matrix, annot=True, cmap=\"Blues\", fmt=\"d\", cbar=False,\n",
    "            xticklabels=[\"Predicted 0\", \"Predicted 1\"], yticklabels=[\"Actual 0\", \"Actual 1\"])\n",
    "plt.xlabel(\"Predicted Labels\")\n",
    "plt.ylabel(\"True Labels\")\n",
    "plt.title(\"Confusion Matrix\")\n",
    "plt.show()"
   ]
  },
  {
   "cell_type": "code",
   "execution_count": 329,
   "id": "6fb296e9",
   "metadata": {},
   "outputs": [
    {
     "name": "stdout",
     "output_type": "stream",
     "text": [
      "accuracy:0.4980 | precision:0.5067\n",
      "recall:0.2246 | f1 score:0.3112\n"
     ]
    }
   ],
   "source": [
    "accuracy = accuracy_score(y_true_np, y_pred_np)\n",
    "precision = precision_score(y_true_np, y_pred_np)\n",
    "recall = recall_score(y_true_np, y_pred_np)\n",
    "f1 = f1_score(y_true_np, y_pred_np)\n",
    "\n",
    "print(f\"accuracy:{accuracy:.4f} | precision:{precision:.4f}\\nrecall:{recall:.4f} | f1 score:{f1:.4f}\")"
   ]
  },
  {
   "cell_type": "code",
   "execution_count": 330,
   "id": "fa84816b",
   "metadata": {
    "scrolled": true
   },
   "outputs": [
    {
     "name": "stdout",
     "output_type": "stream",
     "text": [
      "Classification Report:\n",
      "              precision    recall  f1-score   support\n",
      "\n",
      "           0       0.50      0.78      0.61      2475\n",
      "           1       0.51      0.22      0.31      2525\n",
      "\n",
      "    accuracy                           0.50      5000\n",
      "   macro avg       0.50      0.50      0.46      5000\n",
      "weighted avg       0.50      0.50      0.46      5000\n",
      "\n"
     ]
    }
   ],
   "source": [
    "classification_rep = classification_report(y_true_np, y_pred_np)\n",
    "print(\"Classification Report:\")\n",
    "print(classification_rep)"
   ]
  }
 ],
 "metadata": {
  "kernelspec": {
   "display_name": "Python 3 (ipykernel)",
   "language": "python",
   "name": "python3"
  },
  "language_info": {
   "codemirror_mode": {
    "name": "ipython",
    "version": 3
   },
   "file_extension": ".py",
   "mimetype": "text/x-python",
   "name": "python",
   "nbconvert_exporter": "python",
   "pygments_lexer": "ipython3",
   "version": "3.10.0"
  }
 },
 "nbformat": 4,
 "nbformat_minor": 5
}
